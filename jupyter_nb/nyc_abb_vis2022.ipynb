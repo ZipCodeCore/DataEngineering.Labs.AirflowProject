{
 "cells": [
  {
   "cell_type": "code",
   "execution_count": 15,
   "metadata": {},
   "outputs": [],
   "source": [
    "import dotenv\n",
    "dotenv.load_dotenv()\n",
    "import os\n",
    "MYSQL_USER=os.getenv('MYSQL_USER')\n",
    "MYSQL_PASSWORD=os.getenv('MYSQL_PASSWORD')"
   ]
  },
  {
   "cell_type": "code",
   "execution_count": 16,
   "metadata": {},
   "outputs": [],
   "source": [
    "# print(MYSQL_USER)\n",
    "# print(MYSQL_PASSWORD)"
   ]
  },
  {
   "cell_type": "code",
   "execution_count": 14,
   "metadata": {},
   "outputs": [],
   "source": [
    "import pandas as pd\n",
    "import seaborn as sns\n",
    "import matplotlib.pyplot as plt\n",
    "import numpy as np\n",
    "import os\n",
    "from sqlalchemy import create_engine\n",
    "import pymysql"
   ]
  },
  {
   "cell_type": "code",
   "execution_count": null,
   "metadata": {},
   "outputs": [],
   "source": [
    "mysql_key_str=os.environ.get(\"MYSQL_KEY\")"
   ]
  },
  {
   "cell_type": "code",
   "execution_count": null,
   "metadata": {},
   "outputs": [],
   "source": [
    "mysql_key_str"
   ]
  },
  {
   "cell_type": "code",
   "execution_count": null,
   "metadata": {},
   "outputs": [],
   "source": []
  },
  {
   "cell_type": "code",
   "execution_count": null,
   "metadata": {},
   "outputs": [],
   "source": [
    "engine = create_engine(\"mysql+pymysql://root:\" + os.environ.get(\"mysql_key\") + '@localhost:3306/airflow_project')\n",
    "# engine = create_engine(\"mysql+pymysql://root:\" + '@localhost:3306/airflow_project')"
   ]
  },
  {
   "cell_type": "code",
   "execution_count": null,
   "metadata": {},
   "outputs": [],
   "source": [
    "abb_vis_df = pd.read_sql('select * from airflow_project.nyc_abb', con=engine)\n",
    "abb_vis_df.head()"
   ]
  },
  {
   "cell_type": "markdown",
   "metadata": {},
   "source": [
    "#### more detail data cleaning"
   ]
  },
  {
   "cell_type": "code",
   "execution_count": null,
   "metadata": {},
   "outputs": [],
   "source": [
    "abb_vis_df.loc[abb_vis_df['reviews_per_month'].isnull(), 'reviews_per_month'] = 0"
   ]
  },
  {
   "cell_type": "code",
   "execution_count": null,
   "metadata": {},
   "outputs": [],
   "source": [
    "abb_vis_df = abb_vis_df.loc[:, ~ abb_vis_df.columns.str.contains('^Unnamed')]"
   ]
  },
  {
   "cell_type": "code",
   "execution_count": null,
   "metadata": {},
   "outputs": [],
   "source": [
    "abb_vis_df = abb_vis_df[abb_vis_df['price']>0]"
   ]
  },
  {
   "cell_type": "code",
   "execution_count": null,
   "metadata": {},
   "outputs": [],
   "source": [
    "abb_vis_df = abb_vis_df[abb_vis_df['minimum_nights']<=365]"
   ]
  },
  {
   "cell_type": "code",
   "execution_count": null,
   "metadata": {},
   "outputs": [],
   "source": [
    "abb_vis_df = abb_vis_df.set_index('host_id')"
   ]
  },
  {
   "cell_type": "code",
   "execution_count": null,
   "metadata": {},
   "outputs": [],
   "source": [
    "abb_vis_df.drop(columns=['index']).head()"
   ]
  },
  {
   "cell_type": "code",
   "execution_count": null,
   "metadata": {},
   "outputs": [],
   "source": [
    "abb_vis_df.shape"
   ]
  },
  {
   "cell_type": "code",
   "execution_count": null,
   "metadata": {},
   "outputs": [],
   "source": [
    "abb_vis_df.dtypes"
   ]
  },
  {
   "cell_type": "code",
   "execution_count": null,
   "metadata": {},
   "outputs": [],
   "source": [
    "abb_vis_df.isnull().sum()"
   ]
  },
  {
   "cell_type": "markdown",
   "metadata": {},
   "source": [
    "### Example using SQL query to pull out data"
   ]
  },
  {
   "cell_type": "code",
   "execution_count": null,
   "metadata": {},
   "outputs": [],
   "source": [
    "# More Visualization from SQL query\n",
    "connection = engine.connect()"
   ]
  },
  {
   "cell_type": "code",
   "execution_count": null,
   "metadata": {},
   "outputs": [],
   "source": [
    "# Average Price of Airbnb in NYC /night\n",
    "avg_abb_price = connection.execute('SELECT AVG(price) FROM airflow_project.nyc_abb')"
   ]
  },
  {
   "cell_type": "code",
   "execution_count": null,
   "metadata": {},
   "outputs": [],
   "source": [
    "data_avg_abb_price = [row for row in avg_abb_price]\n",
    "df_avg_abb_price = pd.DataFrame.from_records(data_avg_abb_price)\n",
    "df_avg_abb_price.columns = ['Average price/night of Airbnb in NYC 2019']\n",
    "df_avg_abb_price"
   ]
  },
  {
   "cell_type": "code",
   "execution_count": null,
   "metadata": {},
   "outputs": [],
   "source": [
    "# Average Price of Airbnb in NYC /night (Manhattan) \n",
    "avg_abb_price_M = connection.execute('SELECT AVG(price) \\\n",
    "                                     FROM airflow_project.nyc_abb \\\n",
    "                                     WHERE borough = \"Manhattan\"')"
   ]
  },
  {
   "cell_type": "code",
   "execution_count": null,
   "metadata": {},
   "outputs": [],
   "source": [
    "data_avg_abb_price_M = [row for row in avg_abb_price_M]\n",
    "df_avg_abb_price_M = pd.DataFrame.from_records(data_avg_abb_price_M)\n",
    "df_avg_abb_price_M.columns = ['Average price/night of Airbnb in NYC 2019 (Manhattan)']\n",
    "df_avg_abb_price_M"
   ]
  },
  {
   "cell_type": "code",
   "execution_count": null,
   "metadata": {},
   "outputs": [],
   "source": [
    "# Average Price of Airbnb in NYC /night (Queens) \n",
    "avg_abb_price_Q = connection.execute('SELECT AVG(price) \\\n",
    "                                     FROM airflow_project.nyc_abb\\\n",
    "                                     WHERE borough = \"Queens\"')"
   ]
  },
  {
   "cell_type": "code",
   "execution_count": null,
   "metadata": {},
   "outputs": [],
   "source": [
    "data_avg_abb_price_Q = [row for row in avg_abb_price_Q]\n",
    "df_avg_abb_price_Q = pd.DataFrame.from_records(data_avg_abb_price_Q)\n",
    "df_avg_abb_price_Q.columns = ['Average price/night of Airbnb in NYC 2019 (Queens)']\n",
    "df_avg_abb_price_Q"
   ]
  },
  {
   "cell_type": "code",
   "execution_count": null,
   "metadata": {},
   "outputs": [],
   "source": [
    "#Total Number of review\n",
    "sum_abb_reviews = connection.execute('SELECT SUM(number_of_reviews)\\\n",
    "                                        FROM airflow_project.nyc_abb')"
   ]
  },
  {
   "cell_type": "code",
   "execution_count": null,
   "metadata": {},
   "outputs": [],
   "source": [
    "data_sum_abb_reviews = [row for row in sum_abb_reviews]\n",
    "df_sum_abb_reviews = pd.DataFrame.from_records(data_sum_abb_reviews)\n",
    "df_sum_abb_reviews.columns = ['Total nunber of reviews for Airbnb housing in NYC 2019']\n",
    "df_sum_abb_reviews"
   ]
  },
  {
   "cell_type": "code",
   "execution_count": null,
   "metadata": {},
   "outputs": [],
   "source": []
  },
  {
   "cell_type": "markdown",
   "metadata": {},
   "source": [
    "### Next, we will look at the price distribution by the different boroughs"
   ]
  },
  {
   "cell_type": "code",
   "execution_count": null,
   "metadata": {},
   "outputs": [],
   "source": [
    "abb_vis_df.borough.unique()"
   ]
  },
  {
   "cell_type": "code",
   "execution_count": null,
   "metadata": {},
   "outputs": [],
   "source": [
    "set(abb_vis_df['borough'])"
   ]
  },
  {
   "cell_type": "code",
   "execution_count": null,
   "metadata": {},
   "outputs": [],
   "source": [
    "abb_vis_df.groupby('borough')['price'].describe().round(2)"
   ]
  },
  {
   "cell_type": "code",
   "execution_count": null,
   "metadata": {},
   "outputs": [],
   "source": [
    "#The minimum nights for each borough\n",
    "abb_vis_df.groupby('borough')['minimum_nights'].describe()"
   ]
  },
  {
   "cell_type": "code",
   "execution_count": null,
   "metadata": {},
   "outputs": [],
   "source": [
    "#Pivot table, 5 boroughs\n",
    "abb_vis_df_pt = abb_vis_df.pivot_table(index='borough', columns='room_type', values='price', aggfunc='mean')\n",
    "abb_vis_df_pt.round(2)"
   ]
  },
  {
   "cell_type": "code",
   "execution_count": null,
   "metadata": {},
   "outputs": [],
   "source": []
  },
  {
   "cell_type": "markdown",
   "metadata": {},
   "source": [
    "### Now, let's do simle combing dataset set by couting data from 5 boroughs"
   ]
  },
  {
   "cell_type": "markdown",
   "metadata": {},
   "source": [
    "#### NYC Airbnb Housing Data Count Summary"
   ]
  },
  {
   "cell_type": "code",
   "execution_count": null,
   "metadata": {},
   "outputs": [],
   "source": [
    "abb_borough_count = abb_vis_df.groupby('borough').borough.count()\n",
    "abb_borough_count"
   ]
  },
  {
   "cell_type": "code",
   "execution_count": null,
   "metadata": {},
   "outputs": [],
   "source": []
  },
  {
   "cell_type": "markdown",
   "metadata": {},
   "source": [
    "#### NYC Park Data Count Summary"
   ]
  },
  {
   "cell_type": "code",
   "execution_count": null,
   "metadata": {},
   "outputs": [],
   "source": [
    "nyc_park_vis_df = pd.read_sql('select * from airflow_project.nyc_park', con=engine)\n",
    "nyc_park_vis_df.head()"
   ]
  },
  {
   "cell_type": "code",
   "execution_count": null,
   "metadata": {},
   "outputs": [],
   "source": [
    "#Rename  B = Broonlyn, X = Bronx, M = Manhattan,  Q = Queens,R = Staten Island,\n",
    "nyc_park_vis_df.loc[nyc_park_vis_df.borough == 'B', 'borough'] = 'Brooklyn'\n",
    "nyc_park_vis_df.loc[nyc_park_vis_df.borough == 'X', 'borough'] = 'Bronx'\n",
    "nyc_park_vis_df.loc[nyc_park_vis_df.borough == 'M', 'borough'] = 'Manhattan'\n",
    "nyc_park_vis_df.loc[nyc_park_vis_df.borough == 'Q', 'borough'] = 'Queens'\n",
    "nyc_park_vis_df.loc[nyc_park_vis_df.borough == 'R', 'borough'] = 'Staten Island'"
   ]
  },
  {
   "cell_type": "code",
   "execution_count": null,
   "metadata": {},
   "outputs": [],
   "source": [
    "nyc_park_vis_df.head()"
   ]
  },
  {
   "cell_type": "code",
   "execution_count": null,
   "metadata": {},
   "outputs": [],
   "source": [
    "park_borough_count = nyc_park_vis_df.groupby('borough').borough.count()\n",
    "park_borough_count"
   ]
  },
  {
   "cell_type": "code",
   "execution_count": null,
   "metadata": {},
   "outputs": [],
   "source": []
  },
  {
   "cell_type": "markdown",
   "metadata": {},
   "source": [
    "#### NYC Hot Spot Data Count Summary"
   ]
  },
  {
   "cell_type": "code",
   "execution_count": null,
   "metadata": {},
   "outputs": [],
   "source": [
    "nyc_hot_spot_df = pd.read_sql('select * from airflow_project.nyc_hot_spot', con=engine)\n",
    "nyc_hot_spot_df.head()"
   ]
  },
  {
   "cell_type": "code",
   "execution_count": null,
   "metadata": {},
   "outputs": [],
   "source": [
    "hot_spot_borough_count = nyc_hot_spot_df.groupby('borough').borough.count()\n",
    "hot_spot_borough_count"
   ]
  },
  {
   "cell_type": "code",
   "execution_count": null,
   "metadata": {},
   "outputs": [],
   "source": []
  },
  {
   "cell_type": "markdown",
   "metadata": {},
   "source": [
    "#### NYC Hotel  Data Count Summary"
   ]
  },
  {
   "cell_type": "code",
   "execution_count": null,
   "metadata": {},
   "outputs": [],
   "source": [
    "nyc_hotel_vis_df = pd.read_sql('select * from airflow_project.nyc_hotel', con=engine)\n",
    "nyc_hotel_vis_df.head()"
   ]
  },
  {
   "cell_type": "code",
   "execution_count": null,
   "metadata": {},
   "outputs": [],
   "source": [
    "nyc_hotel_vis_df.loc[nyc_hotel_vis_df.borough == 'BROOKLYN', 'borough'] = 'Brooklyn'\n",
    "nyc_hotel_vis_df.loc[nyc_hotel_vis_df.borough == 'BRONX', 'borough'] = 'Bronx'\n",
    "nyc_hotel_vis_df.loc[nyc_hotel_vis_df.borough == 'MANHATTAN', 'borough'] = 'Manhattan'\n",
    "nyc_hotel_vis_df.loc[nyc_hotel_vis_df.borough == 'QUEENS', 'borough'] = 'Queens'\n",
    "nyc_hotel_vis_df.loc[nyc_hotel_vis_df.borough == 'STATEN IS', 'borough'] = 'Staten Island'"
   ]
  },
  {
   "cell_type": "code",
   "execution_count": null,
   "metadata": {},
   "outputs": [],
   "source": [
    "nyc_hotel_vis_df.head()"
   ]
  },
  {
   "cell_type": "code",
   "execution_count": null,
   "metadata": {},
   "outputs": [],
   "source": [
    "hotel_borough_count = nyc_hotel_vis_df.groupby('borough').borough.count()\n",
    "hotel_borough_count"
   ]
  },
  {
   "cell_type": "code",
   "execution_count": null,
   "metadata": {},
   "outputs": [],
   "source": []
  },
  {
   "cell_type": "markdown",
   "metadata": {},
   "source": [
    "#### NYC Shooting Data Count Summary"
   ]
  },
  {
   "cell_type": "code",
   "execution_count": null,
   "metadata": {},
   "outputs": [],
   "source": [
    "nyc_shooting_vis_df = pd.read_sql('select * from airflow_project.nyc_shooting', con=engine)\n",
    "nyc_shooting_vis_df.head()"
   ]
  },
  {
   "cell_type": "code",
   "execution_count": null,
   "metadata": {},
   "outputs": [],
   "source": [
    "nyc_shooting_vis_df.loc[nyc_shooting_vis_df.borough == 'BROOKLYN', 'borough'] = 'Brooklyn'\n",
    "nyc_shooting_vis_df.loc[nyc_shooting_vis_df.borough == 'BRONX', 'borough'] = 'Bronx'\n",
    "nyc_shooting_vis_df.loc[nyc_shooting_vis_df.borough == 'MANHATTAN', 'borough'] = 'Manhattan'\n",
    "nyc_shooting_vis_df.loc[nyc_shooting_vis_df.borough == 'QUEENS', 'borough'] = 'Queens'\n",
    "nyc_shooting_vis_df.loc[nyc_shooting_vis_df.borough == 'STATEN ISLAND', 'borough'] = 'Staten Island'"
   ]
  },
  {
   "cell_type": "code",
   "execution_count": null,
   "metadata": {},
   "outputs": [],
   "source": [
    "shooting_borough_count = nyc_shooting_vis_df.groupby('borough').borough.count()\n",
    "shooting_borough_count"
   ]
  },
  {
   "cell_type": "code",
   "execution_count": null,
   "metadata": {},
   "outputs": [],
   "source": []
  },
  {
   "cell_type": "markdown",
   "metadata": {},
   "source": [
    "#### NYC Publica Housing Data Count Summary"
   ]
  },
  {
   "cell_type": "code",
   "execution_count": null,
   "metadata": {},
   "outputs": [],
   "source": [
    "pb_houing_vis_df = pd.read_sql('select * from airflow_project.nyc_housing', con=engine)\n",
    "pb_houing_vis_df.head()"
   ]
  },
  {
   "cell_type": "code",
   "execution_count": null,
   "metadata": {},
   "outputs": [],
   "source": [
    "pb_houing_borough_count = pb_houing_vis_df.groupby('borough').borough.count()\n",
    "pb_houing_borough_count"
   ]
  },
  {
   "cell_type": "code",
   "execution_count": null,
   "metadata": {},
   "outputs": [],
   "source": [
    "count_sum_df = pd.concat([abb_borough_count, park_borough_count,hot_spot_borough_count,\n",
    "                    hotel_borough_count,shooting_borough_count,pb_houing_borough_count], axis = 1 )"
   ]
  },
  {
   "cell_type": "code",
   "execution_count": null,
   "metadata": {},
   "outputs": [],
   "source": [
    "count_sum_df.columns= ['airbnb', 'park', 'hot spot', 'hotel', 'shooting', 'public housing']"
   ]
  },
  {
   "cell_type": "code",
   "execution_count": null,
   "metadata": {},
   "outputs": [],
   "source": [
    "count_sum_df"
   ]
  },
  {
   "cell_type": "code",
   "execution_count": null,
   "metadata": {},
   "outputs": [],
   "source": [
    "count_sum_df.drop('airbnb', axis=1).plot(kind = 'barh', legend = True, style = 'ggplot',figsize=(15,5), fontsize= 20, title='NYC Open Data Distribution in 5 Boroughs')"
   ]
  },
  {
   "cell_type": "code",
   "execution_count": null,
   "metadata": {},
   "outputs": [],
   "source": [
    "# subplot\n",
    "import matplotlib as mpl\n",
    "\n",
    "fig,ax=plt.subplots(3,2, figsize=(14, 10), constrained_layout=True)\n",
    "\n",
    "\n",
    "ax[0,0].pie(count_sum_df['airbnb'], labels = ['Bronx', 'Brooklyn', \"Manhattan\", 'Queens', 'Staten Island'], \n",
    "            textprops={'fontsize': 18})\n",
    "ax[0,0].set_title('NYC - Airbnb')\n",
    "\n",
    "\n",
    "ax[0,1].pie(count_sum_df['park'], labels = ['Bronx', 'Brooklyn', \"Manhattan\", 'Queens', 'Staten Island'],\n",
    "           textprops={'fontsize': 18})\n",
    "ax[0,1].set_title('NYC - Park')\n",
    "\n",
    "ax[1,0].pie(count_sum_df['hot spot'], labels = ['Bronx', 'Brooklyn', \"Manhattan\", 'Queens', 'Staten Island'],\n",
    "           textprops={'fontsize': 18})\n",
    "ax[1,0].set_title('NYC - Hot Spot')\n",
    "\n",
    "ax[1,1].pie(count_sum_df['hotel'], labels = ['Bronx', 'Brooklyn', \"Manhattan\", 'Queens', 'Staten Island'],\n",
    "           textprops={'fontsize': 18})\n",
    "ax[1,1].set_title('NYC - Hotel')\n",
    "\n",
    "ax[2,0].pie(count_sum_df['shooting'], labels = ['Bronx', 'Brooklyn', \"Manhattan\", 'Queens', 'Staten Island'],\n",
    "           textprops={'fontsize': 18})\n",
    "ax[2,0].set_title('NYC - Shooting')\n",
    "\n",
    "ax[2,1].pie(count_sum_df['public housing'], labels = ['Bronx', 'Brooklyn', \"Manhattan\", 'Queens', 'Staten Island'],\n",
    "           textprops={'fontsize': 18})\n",
    "ax[2,1].set_title('NYC - Public Housing')"
   ]
  },
  {
   "cell_type": "code",
   "execution_count": null,
   "metadata": {},
   "outputs": [],
   "source": []
  },
  {
   "cell_type": "markdown",
   "metadata": {},
   "source": [
    "#### Data visulization"
   ]
  },
  {
   "cell_type": "code",
   "execution_count": null,
   "metadata": {},
   "outputs": [],
   "source": [
    "abb_vis_df_pt.plot(kind = 'barh', legend = True, style = 'ggplot',figsize=(15,5), fontsize= 20, title='Price of room type in 5 boroughs')"
   ]
  },
  {
   "cell_type": "code",
   "execution_count": null,
   "metadata": {},
   "outputs": [],
   "source": [
    "#All houses get few reviews per month\n",
    "sns.distplot(abb_vis_df['reviews_per_month'])\n",
    "plt.ylabel('number_of_records')\n",
    "plt.show()"
   ]
  },
  {
   "cell_type": "code",
   "execution_count": null,
   "metadata": {},
   "outputs": [],
   "source": [
    "# Airbnb Location by Borough Vis\n",
    "sns.catplot('borough', data=abb_vis_df, kind = 'count', height =9, aspect = 1)"
   ]
  },
  {
   "cell_type": "code",
   "execution_count": null,
   "metadata": {},
   "outputs": [],
   "source": [
    "sns.catplot('room_type', data=abb_vis_df, kind = 'count', height =8, aspect = 1)"
   ]
  },
  {
   "cell_type": "code",
   "execution_count": null,
   "metadata": {},
   "outputs": [],
   "source": [
    "#The most popular neigbourhood\n",
    "data = abb_vis_df.neighbourhood.value_counts()[:10]\n",
    "plt.figure(figsize=(10,6))\n",
    "x = list(data.index)\n",
    "y = list(data.values)\n",
    "x.reverse()\n",
    "y.reverse()\n",
    "\n",
    "plt.title(\"Most popular neighbourhood\")\n",
    "plt.xlabel(\"Number of guest whom host in this area\")\n",
    "plt.ylabel(\"Neighbourhood area\")\n",
    "\n",
    "plt.barh(x, y, color = 'green')\n"
   ]
  },
  {
   "cell_type": "code",
   "execution_count": null,
   "metadata": {},
   "outputs": [],
   "source": [
    "# Corrlation matric\n",
    "sns.set(font_scale =2)\n",
    "plt.figure(figsize =(20, 10))\n",
    "sns.heatmap(abb_vis_df.corr(), annot=True)"
   ]
  },
  {
   "cell_type": "code",
   "execution_count": null,
   "metadata": {},
   "outputs": [],
   "source": [
    "#All other feature correlation with price\n",
    "abb_vis_df.drop('price', axis=1).corrwith(abb_vis_df.price).plot.barh(figsize=(10, 8),\n",
    "                                    title='Correlation with Response Variable', fontsize=15, grid=True)"
   ]
  },
  {
   "cell_type": "code",
   "execution_count": null,
   "metadata": {},
   "outputs": [],
   "source": []
  }
 ],
 "metadata": {
  "kernelspec": {
   "display_name": "Python 3",
   "language": "python",
   "name": "python3"
  },
  "language_info": {
   "codemirror_mode": {
    "name": "ipython",
    "version": 3
   },
   "file_extension": ".py",
   "mimetype": "text/x-python",
   "name": "python",
   "nbconvert_exporter": "python",
   "pygments_lexer": "ipython3",
   "version": "3.5.6"
  }
 },
 "nbformat": 4,
 "nbformat_minor": 4
}
