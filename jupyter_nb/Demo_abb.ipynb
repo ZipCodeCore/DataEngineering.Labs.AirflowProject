{
 "cells": [
  {
   "cell_type": "code",
   "execution_count": 1,
   "id": "1d0a3602",
   "metadata": {},
   "outputs": [],
   "source": [
    "import pandas as pd\n",
    "import sqlite3"
   ]
  },
  {
   "cell_type": "code",
   "execution_count": 3,
   "id": "2d757356",
   "metadata": {},
   "outputs": [],
   "source": [
    "df = pd.read_csv('city.csv')\n",
    "df = df.astype(str)\n",
    "conn = sqlite3.connect('example.db')\n",
    "c = conn.cursor()\n",
    "df.to_sql('test_table', conn, if_exists='append', index=False)"
   ]
  },
  {
   "cell_type": "code",
   "execution_count": 5,
   "id": "8157d8b1",
   "metadata": {},
   "outputs": [],
   "source": [
    "test = c.execute(\"SELECT * FROM test_table \\\n",
    "                    WHERE name LIKE 'B%' LIMIT 5;\")"
   ]
  },
  {
   "cell_type": "code",
   "execution_count": 7,
   "id": "d5152722",
   "metadata": {},
   "outputs": [],
   "source": [
    "def sql_query_to_pddf(sql_query, *argv):\n",
    "    sql_query = [row for row in sql_query]\n",
    "    sql_query = pd.DataFrame.from_records(sql_query)\n",
    "    sql_query.columns = [[*argv]]\n",
    "    return sql_query"
   ]
  },
  {
   "cell_type": "code",
   "execution_count": 9,
   "id": "42ecf419",
   "metadata": {},
   "outputs": [
    {
     "data": {
      "text/html": [
       "<div>\n",
       "<style scoped>\n",
       "    .dataframe tbody tr th:only-of-type {\n",
       "        vertical-align: middle;\n",
       "    }\n",
       "\n",
       "    .dataframe tbody tr th {\n",
       "        vertical-align: top;\n",
       "    }\n",
       "\n",
       "    .dataframe thead tr th {\n",
       "        text-align: left;\n",
       "    }\n",
       "</style>\n",
       "<table border=\"1\" class=\"dataframe\">\n",
       "  <thead>\n",
       "    <tr>\n",
       "      <th></th>\n",
       "      <th>Name</th>\n",
       "      <th>Population</th>\n",
       "    </tr>\n",
       "  </thead>\n",
       "  <tbody>\n",
       "    <tr>\n",
       "      <th>0</th>\n",
       "      <td>Bakersfield</td>\n",
       "      <td>247057</td>\n",
       "    </tr>\n",
       "    <tr>\n",
       "      <th>1</th>\n",
       "      <td>Baltimore</td>\n",
       "      <td>651154</td>\n",
       "    </tr>\n",
       "    <tr>\n",
       "      <th>2</th>\n",
       "      <td>Baton Rouge</td>\n",
       "      <td>227818</td>\n",
       "    </tr>\n",
       "    <tr>\n",
       "      <th>3</th>\n",
       "      <td>Beaumont</td>\n",
       "      <td>113866</td>\n",
       "    </tr>\n",
       "    <tr>\n",
       "      <th>4</th>\n",
       "      <td>Bellevue</td>\n",
       "      <td>109569</td>\n",
       "    </tr>\n",
       "  </tbody>\n",
       "</table>\n",
       "</div>"
      ],
      "text/plain": [
       "          Name Population\n",
       "0  Bakersfield     247057\n",
       "1    Baltimore     651154\n",
       "2  Baton Rouge     227818\n",
       "3     Beaumont     113866\n",
       "4     Bellevue     109569"
      ]
     },
     "execution_count": 9,
     "metadata": {},
     "output_type": "execute_result"
    }
   ],
   "source": [
    "sql_query_to_pddf(test, 'Name', 'Population')"
   ]
  },
  {
   "cell_type": "code",
   "execution_count": null,
   "id": "d2febe57",
   "metadata": {},
   "outputs": [],
   "source": []
  },
  {
   "cell_type": "code",
   "execution_count": null,
   "id": "98fbd00c",
   "metadata": {},
   "outputs": [],
   "source": []
  }
 ],
 "metadata": {
  "kernelspec": {
   "display_name": "Python 3",
   "language": "python",
   "name": "python3"
  },
  "language_info": {
   "codemirror_mode": {
    "name": "ipython",
    "version": 3
   },
   "file_extension": ".py",
   "mimetype": "text/x-python",
   "name": "python",
   "nbconvert_exporter": "python",
   "pygments_lexer": "ipython3",
   "version": "3.5.6"
  }
 },
 "nbformat": 4,
 "nbformat_minor": 5
}
