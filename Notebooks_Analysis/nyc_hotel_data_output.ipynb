{
 "cells": [
  {
   "cell_type": "code",
   "execution_count": 1,
   "metadata": {
    "execution": {
     "iopub.execute_input": "2020-04-10T03:42:23.225403Z",
     "iopub.status.busy": "2020-04-10T03:42:23.224071Z",
     "iopub.status.idle": "2020-04-10T03:42:23.226506Z",
     "shell.execute_reply": "2020-04-10T03:42:23.227285Z"
    },
    "papermill": {
     "duration": 0.014818,
     "end_time": "2020-04-10T03:42:23.227452",
     "exception": false,
     "start_time": "2020-04-10T03:42:23.212634",
     "status": "completed"
    },
    "tags": [
     "injected-parameters"
    ]
   },
   "outputs": [],
   "source": [
    "# Parameters\n",
    "file_name = \"/Users/nli/dev/airflow_home/data/nyc_hotel_data2.csv\"\n"
   ]
  },
  {
   "cell_type": "code",
   "execution_count": 2,
   "metadata": {
    "execution": {
     "iopub.execute_input": "2020-04-10T03:42:23.246165Z",
     "iopub.status.busy": "2020-04-10T03:42:23.244609Z",
     "iopub.status.idle": "2020-04-10T03:42:23.858253Z",
     "shell.execute_reply": "2020-04-10T03:42:23.859091Z"
    },
    "papermill": {
     "duration": 0.624439,
     "end_time": "2020-04-10T03:42:23.859283",
     "exception": false,
     "start_time": "2020-04-10T03:42:23.234844",
     "status": "completed"
    },
    "tags": []
   },
   "outputs": [],
   "source": [
    "import pandas as pd"
   ]
  },
  {
   "cell_type": "code",
   "execution_count": 3,
   "metadata": {
    "execution": {
     "iopub.execute_input": "2020-04-10T03:42:23.877973Z",
     "iopub.status.busy": "2020-04-10T03:42:23.876849Z",
     "iopub.status.idle": "2020-04-10T03:42:23.889519Z",
     "shell.execute_reply": "2020-04-10T03:42:23.890299Z"
    },
    "papermill": {
     "duration": 0.0237,
     "end_time": "2020-04-10T03:42:23.890444",
     "exception": false,
     "start_time": "2020-04-10T03:42:23.866744",
     "status": "completed"
    },
    "tags": []
   },
   "outputs": [],
   "source": [
    "nyc_hotel_df=pd.read_csv('/Users/nli/dev/airflow_home/data/nyc_hotel_data.csv')"
   ]
  },
  {
   "cell_type": "code",
   "execution_count": 4,
   "metadata": {
    "execution": {
     "iopub.execute_input": "2020-04-10T03:42:23.914108Z",
     "iopub.status.busy": "2020-04-10T03:42:23.913141Z",
     "iopub.status.idle": "2020-04-10T03:42:23.916864Z",
     "shell.execute_reply": "2020-04-10T03:42:23.917665Z"
    },
    "papermill": {
     "duration": 0.019982,
     "end_time": "2020-04-10T03:42:23.917812",
     "exception": false,
     "start_time": "2020-04-10T03:42:23.897830",
     "status": "completed"
    },
    "tags": []
   },
   "outputs": [
    {
     "data": {
      "text/plain": [
       "(2731, 20)"
      ]
     },
     "execution_count": 4,
     "metadata": {},
     "output_type": "execute_result"
    }
   ],
   "source": [
    "nyc_hotel_df.shape"
   ]
  },
  {
   "cell_type": "code",
   "execution_count": 5,
   "metadata": {
    "execution": {
     "iopub.execute_input": "2020-04-10T03:42:23.942335Z",
     "iopub.status.busy": "2020-04-10T03:42:23.941364Z",
     "iopub.status.idle": "2020-04-10T03:42:23.950096Z",
     "shell.execute_reply": "2020-04-10T03:42:23.950896Z"
    },
    "papermill": {
     "duration": 0.026351,
     "end_time": "2020-04-10T03:42:23.951042",
     "exception": false,
     "start_time": "2020-04-10T03:42:23.924691",
     "status": "completed"
    },
    "tags": []
   },
   "outputs": [
    {
     "data": {
      "text/html": [
       "<div>\n",
       "<style scoped>\n",
       "    .dataframe tbody tr th:only-of-type {\n",
       "        vertical-align: middle;\n",
       "    }\n",
       "\n",
       "    .dataframe tbody tr th {\n",
       "        vertical-align: top;\n",
       "    }\n",
       "\n",
       "    .dataframe thead th {\n",
       "        text-align: right;\n",
       "    }\n",
       "</style>\n",
       "<table border=\"1\" class=\"dataframe\">\n",
       "  <thead>\n",
       "    <tr style=\"text-align: right;\">\n",
       "      <th></th>\n",
       "      <th>PARID</th>\n",
       "      <th>BOROCODE</th>\n",
       "      <th>BLOCK</th>\n",
       "      <th>LOT</th>\n",
       "      <th>TAXYEAR</th>\n",
       "      <th>STREET NUMBER</th>\n",
       "      <th>STREET NAME</th>\n",
       "      <th>Postcode</th>\n",
       "      <th>BLDG_CLASS</th>\n",
       "      <th>TAXCLASS</th>\n",
       "      <th>OWNER_NAME</th>\n",
       "      <th>Borough</th>\n",
       "      <th>Latitude</th>\n",
       "      <th>Longitude</th>\n",
       "      <th>Community Board</th>\n",
       "      <th>Council District</th>\n",
       "      <th>Census Tract</th>\n",
       "      <th>BIN</th>\n",
       "      <th>BBL</th>\n",
       "      <th>NTA</th>\n",
       "    </tr>\n",
       "  </thead>\n",
       "  <tbody>\n",
       "    <tr>\n",
       "      <th>0</th>\n",
       "      <td>1000080039</td>\n",
       "      <td>1</td>\n",
       "      <td>8</td>\n",
       "      <td>39</td>\n",
       "      <td>2021</td>\n",
       "      <td>32</td>\n",
       "      <td>PEARL STREET</td>\n",
       "      <td>10004</td>\n",
       "      <td>H3</td>\n",
       "      <td>4</td>\n",
       "      <td>32 PEARL, LLC</td>\n",
       "      <td>MANHATTAN</td>\n",
       "      <td>40.703235</td>\n",
       "      <td>-74.012421</td>\n",
       "      <td>101.0</td>\n",
       "      <td>1.0</td>\n",
       "      <td>9.0</td>\n",
       "      <td>1078968.0</td>\n",
       "      <td>1.000080e+09</td>\n",
       "      <td>Battery Park City-Lower Manhattan</td>\n",
       "    </tr>\n",
       "    <tr>\n",
       "      <th>1</th>\n",
       "      <td>1000080051</td>\n",
       "      <td>1</td>\n",
       "      <td>8</td>\n",
       "      <td>51</td>\n",
       "      <td>2021</td>\n",
       "      <td>6</td>\n",
       "      <td>WATER STREET</td>\n",
       "      <td>10004</td>\n",
       "      <td>H2</td>\n",
       "      <td>4</td>\n",
       "      <td>AI IV LLC</td>\n",
       "      <td>MANHATTAN</td>\n",
       "      <td>40.702744</td>\n",
       "      <td>-74.012201</td>\n",
       "      <td>101.0</td>\n",
       "      <td>1.0</td>\n",
       "      <td>9.0</td>\n",
       "      <td>1090472.0</td>\n",
       "      <td>1.000080e+09</td>\n",
       "      <td>Battery Park City-Lower Manhattan</td>\n",
       "    </tr>\n",
       "    <tr>\n",
       "      <th>2</th>\n",
       "      <td>1000100033</td>\n",
       "      <td>1</td>\n",
       "      <td>10</td>\n",
       "      <td>33</td>\n",
       "      <td>2021</td>\n",
       "      <td>8</td>\n",
       "      <td>STONE STREET</td>\n",
       "      <td>10004</td>\n",
       "      <td>H2</td>\n",
       "      <td>4</td>\n",
       "      <td>B.H. 8 STONE STREET AG, LLC</td>\n",
       "      <td>MANHATTAN</td>\n",
       "      <td>40.704025</td>\n",
       "      <td>-74.012638</td>\n",
       "      <td>101.0</td>\n",
       "      <td>1.0</td>\n",
       "      <td>9.0</td>\n",
       "      <td>1087618.0</td>\n",
       "      <td>1.000100e+09</td>\n",
       "      <td>Battery Park City-Lower Manhattan</td>\n",
       "    </tr>\n",
       "    <tr>\n",
       "      <th>3</th>\n",
       "      <td>1000110029</td>\n",
       "      <td>1</td>\n",
       "      <td>11</td>\n",
       "      <td>29</td>\n",
       "      <td>2021</td>\n",
       "      <td>11</td>\n",
       "      <td>STONE STREET</td>\n",
       "      <td>10004</td>\n",
       "      <td>H2</td>\n",
       "      <td>4</td>\n",
       "      <td>PREMIER EMERALD, LLC</td>\n",
       "      <td>MANHATTAN</td>\n",
       "      <td>40.704039</td>\n",
       "      <td>-74.012317</td>\n",
       "      <td>101.0</td>\n",
       "      <td>1.0</td>\n",
       "      <td>9.0</td>\n",
       "      <td>1000041.0</td>\n",
       "      <td>1.000110e+09</td>\n",
       "      <td>Battery Park City-Lower Manhattan</td>\n",
       "    </tr>\n",
       "    <tr>\n",
       "      <th>4</th>\n",
       "      <td>1000161301</td>\n",
       "      <td>1</td>\n",
       "      <td>16</td>\n",
       "      <td>1301</td>\n",
       "      <td>2021</td>\n",
       "      <td>102</td>\n",
       "      <td>NORTH END AVENUE</td>\n",
       "      <td>10282</td>\n",
       "      <td>RH</td>\n",
       "      <td>4</td>\n",
       "      <td>GOLDMAN SACHS</td>\n",
       "      <td>MANHATTAN</td>\n",
       "      <td>40.714812</td>\n",
       "      <td>-74.016153</td>\n",
       "      <td>101.0</td>\n",
       "      <td>1.0</td>\n",
       "      <td>31703.0</td>\n",
       "      <td>1085867.0</td>\n",
       "      <td>1.000168e+09</td>\n",
       "      <td>Battery Park City-Lower Manhattan</td>\n",
       "    </tr>\n",
       "  </tbody>\n",
       "</table>\n",
       "</div>"
      ],
      "text/plain": [
       "        PARID  BOROCODE  BLOCK   LOT  TAXYEAR STREET NUMBER       STREET NAME  \\\n",
       "0  1000080039         1      8    39     2021            32      PEARL STREET   \n",
       "1  1000080051         1      8    51     2021             6      WATER STREET   \n",
       "2  1000100033         1     10    33     2021             8      STONE STREET   \n",
       "3  1000110029         1     11    29     2021            11      STONE STREET   \n",
       "4  1000161301         1     16  1301     2021           102  NORTH END AVENUE   \n",
       "\n",
       "   Postcode BLDG_CLASS  TAXCLASS                   OWNER_NAME    Borough  \\\n",
       "0     10004         H3         4                32 PEARL, LLC  MANHATTAN   \n",
       "1     10004         H2         4                    AI IV LLC  MANHATTAN   \n",
       "2     10004         H2         4  B.H. 8 STONE STREET AG, LLC  MANHATTAN   \n",
       "3     10004         H2         4         PREMIER EMERALD, LLC  MANHATTAN   \n",
       "4     10282         RH         4                GOLDMAN SACHS  MANHATTAN   \n",
       "\n",
       "    Latitude  Longitude  Community Board  Council District  Census Tract  \\\n",
       "0  40.703235 -74.012421            101.0               1.0           9.0   \n",
       "1  40.702744 -74.012201            101.0               1.0           9.0   \n",
       "2  40.704025 -74.012638            101.0               1.0           9.0   \n",
       "3  40.704039 -74.012317            101.0               1.0           9.0   \n",
       "4  40.714812 -74.016153            101.0               1.0       31703.0   \n",
       "\n",
       "         BIN           BBL                                NTA  \n",
       "0  1078968.0  1.000080e+09  Battery Park City-Lower Manhattan  \n",
       "1  1090472.0  1.000080e+09  Battery Park City-Lower Manhattan  \n",
       "2  1087618.0  1.000100e+09  Battery Park City-Lower Manhattan  \n",
       "3  1000041.0  1.000110e+09  Battery Park City-Lower Manhattan  \n",
       "4  1085867.0  1.000168e+09  Battery Park City-Lower Manhattan  "
      ]
     },
     "execution_count": 5,
     "metadata": {},
     "output_type": "execute_result"
    }
   ],
   "source": [
    "nyc_hotel_df.head()"
   ]
  },
  {
   "cell_type": "code",
   "execution_count": 6,
   "metadata": {
    "execution": {
     "iopub.execute_input": "2020-04-10T03:42:23.980572Z",
     "iopub.status.busy": "2020-04-10T03:42:23.979235Z",
     "iopub.status.idle": "2020-04-10T03:42:23.983186Z",
     "shell.execute_reply": "2020-04-10T03:42:23.984003Z"
    },
    "papermill": {
     "duration": 0.025696,
     "end_time": "2020-04-10T03:42:23.984149",
     "exception": false,
     "start_time": "2020-04-10T03:42:23.958453",
     "status": "completed"
    },
    "tags": []
   },
   "outputs": [
    {
     "data": {
      "text/html": [
       "<div>\n",
       "<style scoped>\n",
       "    .dataframe tbody tr th:only-of-type {\n",
       "        vertical-align: middle;\n",
       "    }\n",
       "\n",
       "    .dataframe tbody tr th {\n",
       "        vertical-align: top;\n",
       "    }\n",
       "\n",
       "    .dataframe thead th {\n",
       "        text-align: right;\n",
       "    }\n",
       "</style>\n",
       "<table border=\"1\" class=\"dataframe\">\n",
       "  <thead>\n",
       "    <tr style=\"text-align: right;\">\n",
       "      <th></th>\n",
       "      <th>PARID</th>\n",
       "      <th>BOROCODE</th>\n",
       "      <th>BLOCK</th>\n",
       "      <th>LOT</th>\n",
       "      <th>TAXYEAR</th>\n",
       "      <th>STREET NUMBER</th>\n",
       "      <th>STREET NAME</th>\n",
       "      <th>Postcode</th>\n",
       "      <th>BLDG_CLASS</th>\n",
       "      <th>TAXCLASS</th>\n",
       "      <th>OWNER_NAME</th>\n",
       "      <th>Borough</th>\n",
       "      <th>Latitude</th>\n",
       "      <th>Longitude</th>\n",
       "      <th>Community Board</th>\n",
       "      <th>Council District</th>\n",
       "      <th>Census Tract</th>\n",
       "      <th>BIN</th>\n",
       "      <th>BBL</th>\n",
       "      <th>NTA</th>\n",
       "    </tr>\n",
       "  </thead>\n",
       "  <tbody>\n",
       "    <tr>\n",
       "      <th>2726</th>\n",
       "      <td>5038750026</td>\n",
       "      <td>5</td>\n",
       "      <td>3875</td>\n",
       "      <td>26</td>\n",
       "      <td>2021</td>\n",
       "      <td>630</td>\n",
       "      <td>MIDLAND AVENUE</td>\n",
       "      <td>10306</td>\n",
       "      <td>H4</td>\n",
       "      <td>4</td>\n",
       "      <td>630 MIDLAND CORP</td>\n",
       "      <td>STATEN IS</td>\n",
       "      <td>40.571192</td>\n",
       "      <td>-74.091057</td>\n",
       "      <td>502.0</td>\n",
       "      <td>50.0</td>\n",
       "      <td>11202.0</td>\n",
       "      <td>5055032.0</td>\n",
       "      <td>5.038750e+09</td>\n",
       "      <td>New Dorp-Midland Beach</td>\n",
       "    </tr>\n",
       "    <tr>\n",
       "      <th>2727</th>\n",
       "      <td>5066680094</td>\n",
       "      <td>5</td>\n",
       "      <td>6668</td>\n",
       "      <td>94</td>\n",
       "      <td>2021</td>\n",
       "      <td>51</td>\n",
       "      <td>WILBUR STREET</td>\n",
       "      <td>10309</td>\n",
       "      <td>H4</td>\n",
       "      <td>4</td>\n",
       "      <td>A GUDDEMI</td>\n",
       "      <td>STATEN IS</td>\n",
       "      <td>40.515283</td>\n",
       "      <td>-74.194552</td>\n",
       "      <td>503.0</td>\n",
       "      <td>51.0</td>\n",
       "      <td>198.0</td>\n",
       "      <td>5082754.0</td>\n",
       "      <td>5.066680e+09</td>\n",
       "      <td>Annadale-Huguenot-Prince's Bay-Eltingville</td>\n",
       "    </tr>\n",
       "    <tr>\n",
       "      <th>2728</th>\n",
       "      <td>5070670090</td>\n",
       "      <td>5</td>\n",
       "      <td>7067</td>\n",
       "      <td>90</td>\n",
       "      <td>2021</td>\n",
       "      <td>39</td>\n",
       "      <td>ST LUKES AVENUE</td>\n",
       "      <td>10309</td>\n",
       "      <td>HB</td>\n",
       "      <td>4</td>\n",
       "      <td>JOHN VINCENT SCALIA</td>\n",
       "      <td>STATEN IS</td>\n",
       "      <td>40.553824</td>\n",
       "      <td>-74.216904</td>\n",
       "      <td>503.0</td>\n",
       "      <td>51.0</td>\n",
       "      <td>20801.0</td>\n",
       "      <td>5086591.0</td>\n",
       "      <td>5.070670e+09</td>\n",
       "      <td>Rossville-Woodrow</td>\n",
       "    </tr>\n",
       "    <tr>\n",
       "      <th>2729</th>\n",
       "      <td>5073650001</td>\n",
       "      <td>5</td>\n",
       "      <td>7365</td>\n",
       "      <td>1</td>\n",
       "      <td>2021</td>\n",
       "      <td>2600</td>\n",
       "      <td>VETERANS ROAD WEST</td>\n",
       "      <td>10309</td>\n",
       "      <td>H4</td>\n",
       "      <td>4</td>\n",
       "      <td>M &amp; R ENTERPRISES OF</td>\n",
       "      <td>STATEN IS</td>\n",
       "      <td>40.533481</td>\n",
       "      <td>-74.224756</td>\n",
       "      <td>503.0</td>\n",
       "      <td>51.0</td>\n",
       "      <td>226.0</td>\n",
       "      <td>5086844.0</td>\n",
       "      <td>5.073650e+09</td>\n",
       "      <td>Charleston-Richmond Valley-Tottenville</td>\n",
       "    </tr>\n",
       "    <tr>\n",
       "      <th>2730</th>\n",
       "      <td>5075840099</td>\n",
       "      <td>5</td>\n",
       "      <td>7584</td>\n",
       "      <td>99</td>\n",
       "      <td>2021</td>\n",
       "      <td>110</td>\n",
       "      <td>SOUTH BRIDGE STREET</td>\n",
       "      <td>10309</td>\n",
       "      <td>H4</td>\n",
       "      <td>4</td>\n",
       "      <td>100-110 SOUTH BRIDGE LLC</td>\n",
       "      <td>STATEN IS</td>\n",
       "      <td>40.525055</td>\n",
       "      <td>-74.237788</td>\n",
       "      <td>503.0</td>\n",
       "      <td>51.0</td>\n",
       "      <td>226.0</td>\n",
       "      <td>NaN</td>\n",
       "      <td>NaN</td>\n",
       "      <td>Charleston-Richmond Valley-Tottenville</td>\n",
       "    </tr>\n",
       "  </tbody>\n",
       "</table>\n",
       "</div>"
      ],
      "text/plain": [
       "           PARID  BOROCODE  BLOCK  LOT  TAXYEAR STREET NUMBER  \\\n",
       "2726  5038750026         5   3875   26     2021           630   \n",
       "2727  5066680094         5   6668   94     2021            51   \n",
       "2728  5070670090         5   7067   90     2021            39   \n",
       "2729  5073650001         5   7365    1     2021          2600   \n",
       "2730  5075840099         5   7584   99     2021           110   \n",
       "\n",
       "              STREET NAME  Postcode BLDG_CLASS  TAXCLASS  \\\n",
       "2726       MIDLAND AVENUE     10306         H4         4   \n",
       "2727        WILBUR STREET     10309         H4         4   \n",
       "2728      ST LUKES AVENUE     10309         HB         4   \n",
       "2729   VETERANS ROAD WEST     10309         H4         4   \n",
       "2730  SOUTH BRIDGE STREET     10309         H4         4   \n",
       "\n",
       "                    OWNER_NAME    Borough   Latitude  Longitude  \\\n",
       "2726          630 MIDLAND CORP  STATEN IS  40.571192 -74.091057   \n",
       "2727                 A GUDDEMI  STATEN IS  40.515283 -74.194552   \n",
       "2728       JOHN VINCENT SCALIA  STATEN IS  40.553824 -74.216904   \n",
       "2729      M & R ENTERPRISES OF  STATEN IS  40.533481 -74.224756   \n",
       "2730  100-110 SOUTH BRIDGE LLC  STATEN IS  40.525055 -74.237788   \n",
       "\n",
       "      Community Board  Council District  Census Tract        BIN  \\\n",
       "2726            502.0              50.0       11202.0  5055032.0   \n",
       "2727            503.0              51.0         198.0  5082754.0   \n",
       "2728            503.0              51.0       20801.0  5086591.0   \n",
       "2729            503.0              51.0         226.0  5086844.0   \n",
       "2730            503.0              51.0         226.0        NaN   \n",
       "\n",
       "               BBL                                         NTA  \n",
       "2726  5.038750e+09                      New Dorp-Midland Beach  \n",
       "2727  5.066680e+09  Annadale-Huguenot-Prince's Bay-Eltingville  \n",
       "2728  5.070670e+09                           Rossville-Woodrow  \n",
       "2729  5.073650e+09      Charleston-Richmond Valley-Tottenville  \n",
       "2730           NaN      Charleston-Richmond Valley-Tottenville  "
      ]
     },
     "execution_count": 6,
     "metadata": {},
     "output_type": "execute_result"
    }
   ],
   "source": [
    "nyc_hotel_df.tail()"
   ]
  },
  {
   "cell_type": "code",
   "execution_count": 7,
   "metadata": {
    "execution": {
     "iopub.execute_input": "2020-04-10T03:42:24.005463Z",
     "iopub.status.busy": "2020-04-10T03:42:24.004397Z",
     "iopub.status.idle": "2020-04-10T03:42:24.008949Z",
     "shell.execute_reply": "2020-04-10T03:42:24.009884Z"
    },
    "papermill": {
     "duration": 0.017783,
     "end_time": "2020-04-10T03:42:24.010044",
     "exception": false,
     "start_time": "2020-04-10T03:42:23.992261",
     "status": "completed"
    },
    "tags": []
   },
   "outputs": [
    {
     "data": {
      "text/plain": [
       "PARID               2731\n",
       "BOROCODE            2731\n",
       "BLOCK               2731\n",
       "LOT                 2731\n",
       "TAXYEAR             2731\n",
       "STREET NUMBER       2730\n",
       "STREET NAME         2731\n",
       "Postcode            2731\n",
       "BLDG_CLASS          2731\n",
       "TAXCLASS            2731\n",
       "OWNER_NAME          2731\n",
       "Borough             2726\n",
       "Latitude            2724\n",
       "Longitude           2724\n",
       "Community Board     2724\n",
       "Council District    2724\n",
       "Census Tract        2724\n",
       "BIN                 2711\n",
       "BBL                 2711\n",
       "NTA                 2724\n",
       "dtype: int64"
      ]
     },
     "execution_count": 7,
     "metadata": {},
     "output_type": "execute_result"
    }
   ],
   "source": [
    "nyc_hotel_df.count()"
   ]
  },
  {
   "cell_type": "code",
   "execution_count": 8,
   "metadata": {
    "execution": {
     "iopub.execute_input": "2020-04-10T03:42:24.032000Z",
     "iopub.status.busy": "2020-04-10T03:42:24.030744Z",
     "iopub.status.idle": "2020-04-10T03:42:24.034509Z",
     "shell.execute_reply": "2020-04-10T03:42:24.035324Z"
    },
    "papermill": {
     "duration": 0.017277,
     "end_time": "2020-04-10T03:42:24.035534",
     "exception": false,
     "start_time": "2020-04-10T03:42:24.018257",
     "status": "completed"
    },
    "tags": []
   },
   "outputs": [
    {
     "data": {
      "text/plain": [
       "PARID                0\n",
       "BOROCODE             0\n",
       "BLOCK                0\n",
       "LOT                  0\n",
       "TAXYEAR              0\n",
       "STREET NUMBER        1\n",
       "STREET NAME          0\n",
       "Postcode             0\n",
       "BLDG_CLASS           0\n",
       "TAXCLASS             0\n",
       "OWNER_NAME           0\n",
       "Borough              5\n",
       "Latitude             7\n",
       "Longitude            7\n",
       "Community Board      7\n",
       "Council District     7\n",
       "Census Tract         7\n",
       "BIN                 20\n",
       "BBL                 20\n",
       "NTA                  7\n",
       "dtype: int64"
      ]
     },
     "execution_count": 8,
     "metadata": {},
     "output_type": "execute_result"
    }
   ],
   "source": [
    "nyc_hotel_df.isnull().sum()"
   ]
  },
  {
   "cell_type": "code",
   "execution_count": 9,
   "metadata": {
    "execution": {
     "iopub.execute_input": "2020-04-10T03:42:24.057392Z",
     "iopub.status.busy": "2020-04-10T03:42:24.056354Z",
     "iopub.status.idle": "2020-04-10T03:42:24.060535Z",
     "shell.execute_reply": "2020-04-10T03:42:24.059726Z"
    },
    "papermill": {
     "duration": 0.016785,
     "end_time": "2020-04-10T03:42:24.060659",
     "exception": false,
     "start_time": "2020-04-10T03:42:24.043874",
     "status": "completed"
    },
    "tags": []
   },
   "outputs": [
    {
     "data": {
      "text/plain": [
       "Index(['PARID', 'BOROCODE', 'BLOCK', 'LOT', 'TAXYEAR', 'STREET NUMBER',\n",
       "       'STREET NAME', 'Postcode', 'BLDG_CLASS', 'TAXCLASS', 'OWNER_NAME',\n",
       "       'Borough', 'Latitude', 'Longitude', 'Community Board',\n",
       "       'Council District', 'Census Tract', 'BIN', 'BBL', 'NTA'],\n",
       "      dtype='object')"
      ]
     },
     "execution_count": 9,
     "metadata": {},
     "output_type": "execute_result"
    }
   ],
   "source": [
    "nyc_hotel_df.columns"
   ]
  },
  {
   "cell_type": "code",
   "execution_count": 10,
   "metadata": {
    "execution": {
     "iopub.execute_input": "2020-04-10T03:42:24.084637Z",
     "iopub.status.busy": "2020-04-10T03:42:24.083654Z",
     "iopub.status.idle": "2020-04-10T03:42:24.087012Z",
     "shell.execute_reply": "2020-04-10T03:42:24.087782Z"
    },
    "papermill": {
     "duration": 0.018828,
     "end_time": "2020-04-10T03:42:24.087922",
     "exception": false,
     "start_time": "2020-04-10T03:42:24.069094",
     "status": "completed"
    },
    "tags": []
   },
   "outputs": [
    {
     "data": {
      "text/plain": [
       "Borough\n",
       "BRONX          73\n",
       "BROOKLYN      177\n",
       "MANHATTAN    2250\n",
       "QUEENS        209\n",
       "STATEN IS      17\n",
       "Name: Borough, dtype: int64"
      ]
     },
     "execution_count": 10,
     "metadata": {},
     "output_type": "execute_result"
    }
   ],
   "source": [
    "nyc_hotel_df.groupby('Borough').Borough.count()"
   ]
  },
  {
   "cell_type": "code",
   "execution_count": 11,
   "metadata": {
    "execution": {
     "iopub.execute_input": "2020-04-10T03:42:24.111633Z",
     "iopub.status.busy": "2020-04-10T03:42:24.110454Z",
     "iopub.status.idle": "2020-04-10T03:42:24.112678Z",
     "shell.execute_reply": "2020-04-10T03:42:24.113444Z"
    },
    "papermill": {
     "duration": 0.016246,
     "end_time": "2020-04-10T03:42:24.113586",
     "exception": false,
     "start_time": "2020-04-10T03:42:24.097340",
     "status": "completed"
    },
    "tags": []
   },
   "outputs": [],
   "source": [
    "nyc_hotel_df2 = nyc_hotel_df.drop(columns=['PARID', 'BOROCODE', 'BLOCK', 'LOT', 'TAXYEAR', 'STREET NUMBER',\n",
    "                                          'STREET NAME', 'BLDG_CLASS', 'TAXCLASS', 'OWNER_NAME', 'Community Board',\n",
    "                                          'Council District', 'Census Tract', 'BIN', 'BBL', 'NTA'])"
   ]
  },
  {
   "cell_type": "code",
   "execution_count": 12,
   "metadata": {
    "execution": {
     "iopub.execute_input": "2020-04-10T03:42:24.136770Z",
     "iopub.status.busy": "2020-04-10T03:42:24.135619Z",
     "iopub.status.idle": "2020-04-10T03:42:24.137986Z",
     "shell.execute_reply": "2020-04-10T03:42:24.138805Z"
    },
    "papermill": {
     "duration": 0.01618,
     "end_time": "2020-04-10T03:42:24.138954",
     "exception": false,
     "start_time": "2020-04-10T03:42:24.122774",
     "status": "completed"
    },
    "tags": []
   },
   "outputs": [],
   "source": [
    "nyc_hotel_df2.columns = ['postcode', 'borough', 'latitude', 'longitude']"
   ]
  },
  {
   "cell_type": "code",
   "execution_count": 13,
   "metadata": {
    "execution": {
     "iopub.execute_input": "2020-04-10T03:42:24.164198Z",
     "iopub.status.busy": "2020-04-10T03:42:24.163014Z",
     "iopub.status.idle": "2020-04-10T03:42:24.165242Z",
     "shell.execute_reply": "2020-04-10T03:42:24.166193Z"
    },
    "papermill": {
     "duration": 0.017599,
     "end_time": "2020-04-10T03:42:24.166389",
     "exception": false,
     "start_time": "2020-04-10T03:42:24.148790",
     "status": "completed"
    },
    "tags": []
   },
   "outputs": [],
   "source": [
    "nyc_hotel_df2 = nyc_hotel_df2.set_index('postcode')"
   ]
  },
  {
   "cell_type": "code",
   "execution_count": 14,
   "metadata": {
    "execution": {
     "iopub.execute_input": "2020-04-10T03:42:24.194846Z",
     "iopub.status.busy": "2020-04-10T03:42:24.193670Z",
     "iopub.status.idle": "2020-04-10T03:42:24.197355Z",
     "shell.execute_reply": "2020-04-10T03:42:24.198127Z"
    },
    "papermill": {
     "duration": 0.022811,
     "end_time": "2020-04-10T03:42:24.198268",
     "exception": false,
     "start_time": "2020-04-10T03:42:24.175457",
     "status": "completed"
    },
    "tags": []
   },
   "outputs": [
    {
     "data": {
      "text/html": [
       "<div>\n",
       "<style scoped>\n",
       "    .dataframe tbody tr th:only-of-type {\n",
       "        vertical-align: middle;\n",
       "    }\n",
       "\n",
       "    .dataframe tbody tr th {\n",
       "        vertical-align: top;\n",
       "    }\n",
       "\n",
       "    .dataframe thead th {\n",
       "        text-align: right;\n",
       "    }\n",
       "</style>\n",
       "<table border=\"1\" class=\"dataframe\">\n",
       "  <thead>\n",
       "    <tr style=\"text-align: right;\">\n",
       "      <th></th>\n",
       "      <th>borough</th>\n",
       "      <th>latitude</th>\n",
       "      <th>longitude</th>\n",
       "    </tr>\n",
       "    <tr>\n",
       "      <th>postcode</th>\n",
       "      <th></th>\n",
       "      <th></th>\n",
       "      <th></th>\n",
       "    </tr>\n",
       "  </thead>\n",
       "  <tbody>\n",
       "    <tr>\n",
       "      <th>10004</th>\n",
       "      <td>MANHATTAN</td>\n",
       "      <td>40.703235</td>\n",
       "      <td>-74.012421</td>\n",
       "    </tr>\n",
       "    <tr>\n",
       "      <th>10004</th>\n",
       "      <td>MANHATTAN</td>\n",
       "      <td>40.702744</td>\n",
       "      <td>-74.012201</td>\n",
       "    </tr>\n",
       "    <tr>\n",
       "      <th>10004</th>\n",
       "      <td>MANHATTAN</td>\n",
       "      <td>40.704025</td>\n",
       "      <td>-74.012638</td>\n",
       "    </tr>\n",
       "    <tr>\n",
       "      <th>10004</th>\n",
       "      <td>MANHATTAN</td>\n",
       "      <td>40.704039</td>\n",
       "      <td>-74.012317</td>\n",
       "    </tr>\n",
       "    <tr>\n",
       "      <th>10282</th>\n",
       "      <td>MANHATTAN</td>\n",
       "      <td>40.714812</td>\n",
       "      <td>-74.016153</td>\n",
       "    </tr>\n",
       "    <tr>\n",
       "      <th>...</th>\n",
       "      <td>...</td>\n",
       "      <td>...</td>\n",
       "      <td>...</td>\n",
       "    </tr>\n",
       "    <tr>\n",
       "      <th>10306</th>\n",
       "      <td>STATEN IS</td>\n",
       "      <td>40.571192</td>\n",
       "      <td>-74.091057</td>\n",
       "    </tr>\n",
       "    <tr>\n",
       "      <th>10309</th>\n",
       "      <td>STATEN IS</td>\n",
       "      <td>40.515283</td>\n",
       "      <td>-74.194552</td>\n",
       "    </tr>\n",
       "    <tr>\n",
       "      <th>10309</th>\n",
       "      <td>STATEN IS</td>\n",
       "      <td>40.553824</td>\n",
       "      <td>-74.216904</td>\n",
       "    </tr>\n",
       "    <tr>\n",
       "      <th>10309</th>\n",
       "      <td>STATEN IS</td>\n",
       "      <td>40.533481</td>\n",
       "      <td>-74.224756</td>\n",
       "    </tr>\n",
       "    <tr>\n",
       "      <th>10309</th>\n",
       "      <td>STATEN IS</td>\n",
       "      <td>40.525055</td>\n",
       "      <td>-74.237788</td>\n",
       "    </tr>\n",
       "  </tbody>\n",
       "</table>\n",
       "<p>2731 rows × 3 columns</p>\n",
       "</div>"
      ],
      "text/plain": [
       "            borough   latitude  longitude\n",
       "postcode                                 \n",
       "10004     MANHATTAN  40.703235 -74.012421\n",
       "10004     MANHATTAN  40.702744 -74.012201\n",
       "10004     MANHATTAN  40.704025 -74.012638\n",
       "10004     MANHATTAN  40.704039 -74.012317\n",
       "10282     MANHATTAN  40.714812 -74.016153\n",
       "...             ...        ...        ...\n",
       "10306     STATEN IS  40.571192 -74.091057\n",
       "10309     STATEN IS  40.515283 -74.194552\n",
       "10309     STATEN IS  40.553824 -74.216904\n",
       "10309     STATEN IS  40.533481 -74.224756\n",
       "10309     STATEN IS  40.525055 -74.237788\n",
       "\n",
       "[2731 rows x 3 columns]"
      ]
     },
     "execution_count": 14,
     "metadata": {},
     "output_type": "execute_result"
    }
   ],
   "source": [
    "nyc_hotel_df2"
   ]
  },
  {
   "cell_type": "code",
   "execution_count": 15,
   "metadata": {
    "execution": {
     "iopub.execute_input": "2020-04-10T03:42:24.222062Z",
     "iopub.status.busy": "2020-04-10T03:42:24.221102Z",
     "iopub.status.idle": "2020-04-10T03:42:24.234128Z",
     "shell.execute_reply": "2020-04-10T03:42:24.234907Z"
    },
    "papermill": {
     "duration": 0.026772,
     "end_time": "2020-04-10T03:42:24.235050",
     "exception": false,
     "start_time": "2020-04-10T03:42:24.208278",
     "status": "completed"
    },
    "tags": []
   },
   "outputs": [],
   "source": [
    "nyc_hotel_df2.to_csv('/Users/nli/dev/airflow_home/data/nyc_hotel_data2.csv')"
   ]
  },
  {
   "cell_type": "code",
   "execution_count": null,
   "metadata": {
    "papermill": {
     "duration": 0.009073,
     "end_time": "2020-04-10T03:42:24.253831",
     "exception": false,
     "start_time": "2020-04-10T03:42:24.244758",
     "status": "completed"
    },
    "tags": []
   },
   "outputs": [],
   "source": []
  }
 ],
 "metadata": {
  "kernelspec": {
   "display_name": "Python 3",
   "language": "python",
   "name": "python3"
  },
  "language_info": {
   "codemirror_mode": {
    "name": "ipython",
    "version": 3
   },
   "file_extension": ".py",
   "mimetype": "text/x-python",
   "name": "python",
   "nbconvert_exporter": "python",
   "pygments_lexer": "ipython3",
   "version": "3.7.7"
  },
  "papermill": {
   "duration": 3.124217,
   "end_time": "2020-04-10T03:42:25.351830",
   "environment_variables": {},
   "exception": null,
   "input_path": "/Users/nli/dev/airflow_home/nyc_hotel_data.ipynb",
   "output_path": "/Users/nli/dev/airflow_home/nyc_hotel_data_output.ipynb",
   "parameters": {
    "file_name": "/Users/nli/dev/airflow_home/data/nyc_hotel_data2.csv"
   },
   "start_time": "2020-04-10T03:42:22.227613",
   "version": "2.1.0"
  }
 },
 "nbformat": 4,
 "nbformat_minor": 2
}