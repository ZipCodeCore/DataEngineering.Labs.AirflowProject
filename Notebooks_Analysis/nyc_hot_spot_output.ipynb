{
 "cells": [
  {
   "cell_type": "code",
   "execution_count": 1,
   "metadata": {
    "execution": {
     "iopub.execute_input": "2020-04-17T14:02:08.814176Z",
     "iopub.status.busy": "2020-04-17T14:02:08.813027Z",
     "iopub.status.idle": "2020-04-17T14:02:08.815242Z",
     "shell.execute_reply": "2020-04-17T14:02:08.816019Z"
    },
    "papermill": {
     "duration": 0.020776,
     "end_time": "2020-04-17T14:02:08.816193",
     "exception": false,
     "start_time": "2020-04-17T14:02:08.795417",
     "status": "completed"
    },
    "tags": [
     "injected-parameters"
    ]
   },
   "outputs": [],
   "source": [
    "# Parameters\n",
    "file_name = \"/Users/nli/dev/airflow_home/data/nyc_hot_spot2.csv\"\n"
   ]
  },
  {
   "cell_type": "code",
   "execution_count": 2,
   "metadata": {
    "execution": {
     "iopub.execute_input": "2020-04-17T14:02:08.841316Z",
     "iopub.status.busy": "2020-04-17T14:02:08.840252Z",
     "iopub.status.idle": "2020-04-17T14:02:09.546729Z",
     "shell.execute_reply": "2020-04-17T14:02:09.547519Z"
    },
    "papermill": {
     "duration": 0.721816,
     "end_time": "2020-04-17T14:02:09.547673",
     "exception": false,
     "start_time": "2020-04-17T14:02:08.825857",
     "status": "completed"
    },
    "tags": []
   },
   "outputs": [],
   "source": [
    "import numpy\n",
    "import pandas as pd\n",
    "import matplotlib.pyplot as plt\n",
    "%matplotlib inline"
   ]
  },
  {
   "cell_type": "code",
   "execution_count": 3,
   "metadata": {
    "execution": {
     "iopub.execute_input": "2020-04-17T14:02:09.570298Z",
     "iopub.status.busy": "2020-04-17T14:02:09.569245Z",
     "iopub.status.idle": "2020-04-17T14:02:09.593522Z",
     "shell.execute_reply": "2020-04-17T14:02:09.594307Z"
    },
    "papermill": {
     "duration": 0.037357,
     "end_time": "2020-04-17T14:02:09.594458",
     "exception": false,
     "start_time": "2020-04-17T14:02:09.557101",
     "status": "completed"
    },
    "tags": []
   },
   "outputs": [],
   "source": [
    "# NYC Free public hot spot data\n",
    "\"\"\"\n",
    "We will collect and use the location of NYC free hot spot data (based on Borogh name) in this dataset.\n",
    "\"\"\"\n",
    "nyc_hot_spot_df=pd.read_csv('/Users/nli/dev/airflow_home/data/nyc_hot_spot.csv')"
   ]
  },
  {
   "cell_type": "code",
   "execution_count": 4,
   "metadata": {
    "execution": {
     "iopub.execute_input": "2020-04-17T14:02:09.628297Z",
     "iopub.status.busy": "2020-04-17T14:02:09.627325Z",
     "iopub.status.idle": "2020-04-17T14:02:09.635971Z",
     "shell.execute_reply": "2020-04-17T14:02:09.636746Z"
    },
    "papermill": {
     "duration": 0.033142,
     "end_time": "2020-04-17T14:02:09.636923",
     "exception": false,
     "start_time": "2020-04-17T14:02:09.603781",
     "status": "completed"
    },
    "tags": []
   },
   "outputs": [
    {
     "data": {
      "text/html": [
       "<div>\n",
       "<style scoped>\n",
       "    .dataframe tbody tr th:only-of-type {\n",
       "        vertical-align: middle;\n",
       "    }\n",
       "\n",
       "    .dataframe tbody tr th {\n",
       "        vertical-align: top;\n",
       "    }\n",
       "\n",
       "    .dataframe thead th {\n",
       "        text-align: right;\n",
       "    }\n",
       "</style>\n",
       "<table border=\"1\" class=\"dataframe\">\n",
       "  <thead>\n",
       "    <tr style=\"text-align: right;\">\n",
       "      <th></th>\n",
       "      <th>BORO</th>\n",
       "      <th>the_geom</th>\n",
       "      <th>OBJECTID</th>\n",
       "      <th>TYPE</th>\n",
       "      <th>PROVIDER</th>\n",
       "      <th>NAME</th>\n",
       "      <th>LOCATION</th>\n",
       "      <th>LAT</th>\n",
       "      <th>LON</th>\n",
       "      <th>X</th>\n",
       "      <th>...</th>\n",
       "      <th>NTACODE</th>\n",
       "      <th>NTANAME</th>\n",
       "      <th>COUNDIST</th>\n",
       "      <th>POSTCODE</th>\n",
       "      <th>BOROCD</th>\n",
       "      <th>CT2010</th>\n",
       "      <th>BOROCT2010</th>\n",
       "      <th>BIN</th>\n",
       "      <th>BBL</th>\n",
       "      <th>DOITT_ID</th>\n",
       "    </tr>\n",
       "  </thead>\n",
       "  <tbody>\n",
       "    <tr>\n",
       "      <th>0</th>\n",
       "      <td>BK</td>\n",
       "      <td>POINT (-73.87053740957452 40.68406083967918)</td>\n",
       "      <td>10321</td>\n",
       "      <td>Free</td>\n",
       "      <td>LinkNYC - Citybridge</td>\n",
       "      <td>bk-05-145941</td>\n",
       "      <td>3386 FULTON STREET</td>\n",
       "      <td>40.684061</td>\n",
       "      <td>-73.870537</td>\n",
       "      <td>1.020156e+06</td>\n",
       "      <td>...</td>\n",
       "      <td>BK83</td>\n",
       "      <td>Cypress Hills-City Line</td>\n",
       "      <td>37</td>\n",
       "      <td>11208</td>\n",
       "      <td>305</td>\n",
       "      <td>184</td>\n",
       "      <td>3118400</td>\n",
       "      <td>3327234</td>\n",
       "      <td>3041480040</td>\n",
       "      <td>4726</td>\n",
       "    </tr>\n",
       "    <tr>\n",
       "      <th>1</th>\n",
       "      <td>BK</td>\n",
       "      <td>POINT (-73.86897452703059 40.68462509021575)</td>\n",
       "      <td>10322</td>\n",
       "      <td>Free</td>\n",
       "      <td>LinkNYC - Citybridge</td>\n",
       "      <td>bk-05-145940</td>\n",
       "      <td>3435 FULTON STREET</td>\n",
       "      <td>40.684625</td>\n",
       "      <td>-73.868975</td>\n",
       "      <td>1.020589e+06</td>\n",
       "      <td>...</td>\n",
       "      <td>BK83</td>\n",
       "      <td>Cypress Hills-City Line</td>\n",
       "      <td>37</td>\n",
       "      <td>11208</td>\n",
       "      <td>305</td>\n",
       "      <td>184</td>\n",
       "      <td>3118400</td>\n",
       "      <td>3092471</td>\n",
       "      <td>3041340160</td>\n",
       "      <td>4727</td>\n",
       "    </tr>\n",
       "    <tr>\n",
       "      <th>2</th>\n",
       "      <td>BK</td>\n",
       "      <td>POINT (-73.86830878947508 40.68470155389536)</td>\n",
       "      <td>10323</td>\n",
       "      <td>Free</td>\n",
       "      <td>LinkNYC - Citybridge</td>\n",
       "      <td>bk-05-145939</td>\n",
       "      <td>3450 FULTON STREET</td>\n",
       "      <td>40.684702</td>\n",
       "      <td>-73.868309</td>\n",
       "      <td>1.020774e+06</td>\n",
       "      <td>...</td>\n",
       "      <td>BK83</td>\n",
       "      <td>Cypress Hills-City Line</td>\n",
       "      <td>37</td>\n",
       "      <td>11208</td>\n",
       "      <td>305</td>\n",
       "      <td>184</td>\n",
       "      <td>3118400</td>\n",
       "      <td>3093023</td>\n",
       "      <td>3041510030</td>\n",
       "      <td>4728</td>\n",
       "    </tr>\n",
       "    <tr>\n",
       "      <th>3</th>\n",
       "      <td>BK</td>\n",
       "      <td>POINT (-73.86677732990765 40.68513094043811)</td>\n",
       "      <td>10324</td>\n",
       "      <td>Free</td>\n",
       "      <td>LinkNYC - Citybridge</td>\n",
       "      <td>bk-05-145938</td>\n",
       "      <td>3480 FULTON STREET</td>\n",
       "      <td>40.685131</td>\n",
       "      <td>-73.866777</td>\n",
       "      <td>1.021198e+06</td>\n",
       "      <td>...</td>\n",
       "      <td>BK83</td>\n",
       "      <td>Cypress Hills-City Line</td>\n",
       "      <td>37</td>\n",
       "      <td>11208</td>\n",
       "      <td>305</td>\n",
       "      <td>184</td>\n",
       "      <td>3118400</td>\n",
       "      <td>3093078</td>\n",
       "      <td>3041520030</td>\n",
       "      <td>4729</td>\n",
       "    </tr>\n",
       "    <tr>\n",
       "      <th>4</th>\n",
       "      <td>BK</td>\n",
       "      <td>POINT (-73.89716745051707 40.67647466963193)</td>\n",
       "      <td>10325</td>\n",
       "      <td>Free</td>\n",
       "      <td>LinkNYC - Citybridge</td>\n",
       "      <td>bk-05-145932</td>\n",
       "      <td>62 PENNSYLVANIA AVENUE</td>\n",
       "      <td>40.676475</td>\n",
       "      <td>-73.897167</td>\n",
       "      <td>1.012774e+06</td>\n",
       "      <td>...</td>\n",
       "      <td>BK82</td>\n",
       "      <td>East New York</td>\n",
       "      <td>37</td>\n",
       "      <td>11207</td>\n",
       "      <td>305</td>\n",
       "      <td>198</td>\n",
       "      <td>3119800</td>\n",
       "      <td>3083275</td>\n",
       "      <td>3036690030</td>\n",
       "      <td>4730</td>\n",
       "    </tr>\n",
       "  </tbody>\n",
       "</table>\n",
       "<p>5 rows × 29 columns</p>\n",
       "</div>"
      ],
      "text/plain": [
       "  BORO                                      the_geom  OBJECTID  TYPE  \\\n",
       "0   BK  POINT (-73.87053740957452 40.68406083967918)     10321  Free   \n",
       "1   BK  POINT (-73.86897452703059 40.68462509021575)     10322  Free   \n",
       "2   BK  POINT (-73.86830878947508 40.68470155389536)     10323  Free   \n",
       "3   BK  POINT (-73.86677732990765 40.68513094043811)     10324  Free   \n",
       "4   BK  POINT (-73.89716745051707 40.67647466963193)     10325  Free   \n",
       "\n",
       "               PROVIDER          NAME                LOCATION        LAT  \\\n",
       "0  LinkNYC - Citybridge  bk-05-145941      3386 FULTON STREET  40.684061   \n",
       "1  LinkNYC - Citybridge  bk-05-145940      3435 FULTON STREET  40.684625   \n",
       "2  LinkNYC - Citybridge  bk-05-145939      3450 FULTON STREET  40.684702   \n",
       "3  LinkNYC - Citybridge  bk-05-145938      3480 FULTON STREET  40.685131   \n",
       "4  LinkNYC - Citybridge  bk-05-145932  62 PENNSYLVANIA AVENUE  40.676475   \n",
       "\n",
       "         LON             X  ...  NTACODE                  NTANAME COUNDIST  \\\n",
       "0 -73.870537  1.020156e+06  ...     BK83  Cypress Hills-City Line       37   \n",
       "1 -73.868975  1.020589e+06  ...     BK83  Cypress Hills-City Line       37   \n",
       "2 -73.868309  1.020774e+06  ...     BK83  Cypress Hills-City Line       37   \n",
       "3 -73.866777  1.021198e+06  ...     BK83  Cypress Hills-City Line       37   \n",
       "4 -73.897167  1.012774e+06  ...     BK82            East New York       37   \n",
       "\n",
       "  POSTCODE BOROCD CT2010 BOROCT2010      BIN         BBL DOITT_ID  \n",
       "0    11208    305    184    3118400  3327234  3041480040     4726  \n",
       "1    11208    305    184    3118400  3092471  3041340160     4727  \n",
       "2    11208    305    184    3118400  3093023  3041510030     4728  \n",
       "3    11208    305    184    3118400  3093078  3041520030     4729  \n",
       "4    11207    305    198    3119800  3083275  3036690030     4730  \n",
       "\n",
       "[5 rows x 29 columns]"
      ]
     },
     "execution_count": 4,
     "metadata": {},
     "output_type": "execute_result"
    }
   ],
   "source": [
    "nyc_hot_spot_df.head()"
   ]
  },
  {
   "cell_type": "code",
   "execution_count": 5,
   "metadata": {
    "execution": {
     "iopub.execute_input": "2020-04-17T14:02:09.675765Z",
     "iopub.status.busy": "2020-04-17T14:02:09.674575Z",
     "iopub.status.idle": "2020-04-17T14:02:09.678170Z",
     "shell.execute_reply": "2020-04-17T14:02:09.678936Z"
    },
    "papermill": {
     "duration": 0.031241,
     "end_time": "2020-04-17T14:02:09.679077",
     "exception": false,
     "start_time": "2020-04-17T14:02:09.647836",
     "status": "completed"
    },
    "tags": []
   },
   "outputs": [
    {
     "data": {
      "text/html": [
       "<div>\n",
       "<style scoped>\n",
       "    .dataframe tbody tr th:only-of-type {\n",
       "        vertical-align: middle;\n",
       "    }\n",
       "\n",
       "    .dataframe tbody tr th {\n",
       "        vertical-align: top;\n",
       "    }\n",
       "\n",
       "    .dataframe thead th {\n",
       "        text-align: right;\n",
       "    }\n",
       "</style>\n",
       "<table border=\"1\" class=\"dataframe\">\n",
       "  <thead>\n",
       "    <tr style=\"text-align: right;\">\n",
       "      <th></th>\n",
       "      <th>BORO</th>\n",
       "      <th>the_geom</th>\n",
       "      <th>OBJECTID</th>\n",
       "      <th>TYPE</th>\n",
       "      <th>PROVIDER</th>\n",
       "      <th>NAME</th>\n",
       "      <th>LOCATION</th>\n",
       "      <th>LAT</th>\n",
       "      <th>LON</th>\n",
       "      <th>X</th>\n",
       "      <th>...</th>\n",
       "      <th>NTACODE</th>\n",
       "      <th>NTANAME</th>\n",
       "      <th>COUNDIST</th>\n",
       "      <th>POSTCODE</th>\n",
       "      <th>BOROCD</th>\n",
       "      <th>CT2010</th>\n",
       "      <th>BOROCT2010</th>\n",
       "      <th>BIN</th>\n",
       "      <th>BBL</th>\n",
       "      <th>DOITT_ID</th>\n",
       "    </tr>\n",
       "  </thead>\n",
       "  <tbody>\n",
       "    <tr>\n",
       "      <th>3314</th>\n",
       "      <td>BK</td>\n",
       "      <td>POINT (-73.98061299986409 40.688850999702765)</td>\n",
       "      <td>12081</td>\n",
       "      <td>Free</td>\n",
       "      <td>LinkNYC - Citybridge</td>\n",
       "      <td>bk-02-126565</td>\n",
       "      <td>605 FULTON STREET</td>\n",
       "      <td>40.688851</td>\n",
       "      <td>-73.980613</td>\n",
       "      <td>989626.542385</td>\n",
       "      <td>...</td>\n",
       "      <td>BK68</td>\n",
       "      <td>Fort Greene</td>\n",
       "      <td>35</td>\n",
       "      <td>11201</td>\n",
       "      <td>302</td>\n",
       "      <td>33</td>\n",
       "      <td>3003300</td>\n",
       "      <td>3058594</td>\n",
       "      <td>3020930000</td>\n",
       "      <td>3036</td>\n",
       "    </tr>\n",
       "    <tr>\n",
       "      <th>3315</th>\n",
       "      <td>BK</td>\n",
       "      <td>POINT (-73.98086658959652 40.68521832983276)</td>\n",
       "      <td>12082</td>\n",
       "      <td>Free</td>\n",
       "      <td>LinkNYC - Citybridge</td>\n",
       "      <td>bk-02-125833</td>\n",
       "      <td>46 3Rd Ave</td>\n",
       "      <td>40.685218</td>\n",
       "      <td>-73.980867</td>\n",
       "      <td>989556.504139</td>\n",
       "      <td>...</td>\n",
       "      <td>BK38</td>\n",
       "      <td>DUMBO-Vinegar Hill-Downtown Brooklyn-Boerum Hill</td>\n",
       "      <td>33</td>\n",
       "      <td>11217</td>\n",
       "      <td>302</td>\n",
       "      <td>39</td>\n",
       "      <td>3003900</td>\n",
       "      <td>3000981</td>\n",
       "      <td>3001850030</td>\n",
       "      <td>3037</td>\n",
       "    </tr>\n",
       "    <tr>\n",
       "      <th>3316</th>\n",
       "      <td>BK</td>\n",
       "      <td>POINT (-73.98496961348239 40.68681156940765)</td>\n",
       "      <td>12083</td>\n",
       "      <td>Free</td>\n",
       "      <td>LinkNYC - Citybridge</td>\n",
       "      <td>bk-02-108355</td>\n",
       "      <td>402 Atlantic Avenue</td>\n",
       "      <td>40.686812</td>\n",
       "      <td>-73.984970</td>\n",
       "      <td>988418.462452</td>\n",
       "      <td>...</td>\n",
       "      <td>BK38</td>\n",
       "      <td>DUMBO-Vinegar Hill-Downtown Brooklyn-Boerum Hill</td>\n",
       "      <td>33</td>\n",
       "      <td>11217</td>\n",
       "      <td>302</td>\n",
       "      <td>41</td>\n",
       "      <td>3004100</td>\n",
       "      <td>3255607</td>\n",
       "      <td>3001837500</td>\n",
       "      <td>3038</td>\n",
       "    </tr>\n",
       "    <tr>\n",
       "      <th>3317</th>\n",
       "      <td>BK</td>\n",
       "      <td>POINT (-73.99314691026974 40.6879008003403)</td>\n",
       "      <td>12084</td>\n",
       "      <td>Free</td>\n",
       "      <td>LinkNYC - Citybridge</td>\n",
       "      <td>bk-02-126166</td>\n",
       "      <td>181 Court Street</td>\n",
       "      <td>40.687901</td>\n",
       "      <td>-73.993147</td>\n",
       "      <td>986150.575255</td>\n",
       "      <td>...</td>\n",
       "      <td>BK38</td>\n",
       "      <td>DUMBO-Vinegar Hill-Downtown Brooklyn-Boerum Hill</td>\n",
       "      <td>33</td>\n",
       "      <td>11201</td>\n",
       "      <td>302</td>\n",
       "      <td>43</td>\n",
       "      <td>3004300</td>\n",
       "      <td>3002846</td>\n",
       "      <td>3002800020</td>\n",
       "      <td>3039</td>\n",
       "    </tr>\n",
       "    <tr>\n",
       "      <th>3318</th>\n",
       "      <td>BK</td>\n",
       "      <td>POINT (-73.9945262011057 40.68538975600422)</td>\n",
       "      <td>12085</td>\n",
       "      <td>Free</td>\n",
       "      <td>LinkNYC - Citybridge</td>\n",
       "      <td>bk-06-126392</td>\n",
       "      <td>252 COURT STREET</td>\n",
       "      <td>40.685390</td>\n",
       "      <td>-73.994526</td>\n",
       "      <td>985768.112109</td>\n",
       "      <td>...</td>\n",
       "      <td>BK33</td>\n",
       "      <td>Carroll Gardens-Columbia Street-Red Hook</td>\n",
       "      <td>39</td>\n",
       "      <td>11231</td>\n",
       "      <td>306</td>\n",
       "      <td>67</td>\n",
       "      <td>3006700</td>\n",
       "      <td>3336007</td>\n",
       "      <td>3003260040</td>\n",
       "      <td>3040</td>\n",
       "    </tr>\n",
       "  </tbody>\n",
       "</table>\n",
       "<p>5 rows × 29 columns</p>\n",
       "</div>"
      ],
      "text/plain": [
       "     BORO                                       the_geom  OBJECTID  TYPE  \\\n",
       "3314   BK  POINT (-73.98061299986409 40.688850999702765)     12081  Free   \n",
       "3315   BK   POINT (-73.98086658959652 40.68521832983276)     12082  Free   \n",
       "3316   BK   POINT (-73.98496961348239 40.68681156940765)     12083  Free   \n",
       "3317   BK    POINT (-73.99314691026974 40.6879008003403)     12084  Free   \n",
       "3318   BK    POINT (-73.9945262011057 40.68538975600422)     12085  Free   \n",
       "\n",
       "                  PROVIDER          NAME             LOCATION        LAT  \\\n",
       "3314  LinkNYC - Citybridge  bk-02-126565    605 FULTON STREET  40.688851   \n",
       "3315  LinkNYC - Citybridge  bk-02-125833           46 3Rd Ave  40.685218   \n",
       "3316  LinkNYC - Citybridge  bk-02-108355  402 Atlantic Avenue  40.686812   \n",
       "3317  LinkNYC - Citybridge  bk-02-126166     181 Court Street  40.687901   \n",
       "3318  LinkNYC - Citybridge  bk-06-126392     252 COURT STREET  40.685390   \n",
       "\n",
       "            LON              X  ...  NTACODE  \\\n",
       "3314 -73.980613  989626.542385  ...     BK68   \n",
       "3315 -73.980867  989556.504139  ...     BK38   \n",
       "3316 -73.984970  988418.462452  ...     BK38   \n",
       "3317 -73.993147  986150.575255  ...     BK38   \n",
       "3318 -73.994526  985768.112109  ...     BK33   \n",
       "\n",
       "                                               NTANAME COUNDIST POSTCODE  \\\n",
       "3314                                       Fort Greene       35    11201   \n",
       "3315  DUMBO-Vinegar Hill-Downtown Brooklyn-Boerum Hill       33    11217   \n",
       "3316  DUMBO-Vinegar Hill-Downtown Brooklyn-Boerum Hill       33    11217   \n",
       "3317  DUMBO-Vinegar Hill-Downtown Brooklyn-Boerum Hill       33    11201   \n",
       "3318          Carroll Gardens-Columbia Street-Red Hook       39    11231   \n",
       "\n",
       "     BOROCD CT2010 BOROCT2010      BIN         BBL DOITT_ID  \n",
       "3314    302     33    3003300  3058594  3020930000     3036  \n",
       "3315    302     39    3003900  3000981  3001850030     3037  \n",
       "3316    302     41    3004100  3255607  3001837500     3038  \n",
       "3317    302     43    3004300  3002846  3002800020     3039  \n",
       "3318    306     67    3006700  3336007  3003260040     3040  \n",
       "\n",
       "[5 rows x 29 columns]"
      ]
     },
     "execution_count": 5,
     "metadata": {},
     "output_type": "execute_result"
    }
   ],
   "source": [
    "nyc_hot_spot_df.tail()"
   ]
  },
  {
   "cell_type": "code",
   "execution_count": 6,
   "metadata": {
    "execution": {
     "iopub.execute_input": "2020-04-17T14:02:09.703445Z",
     "iopub.status.busy": "2020-04-17T14:02:09.702148Z",
     "iopub.status.idle": "2020-04-17T14:02:09.707233Z",
     "shell.execute_reply": "2020-04-17T14:02:09.706403Z"
    },
    "papermill": {
     "duration": 0.018294,
     "end_time": "2020-04-17T14:02:09.707406",
     "exception": false,
     "start_time": "2020-04-17T14:02:09.689112",
     "status": "completed"
    },
    "tags": []
   },
   "outputs": [
    {
     "data": {
      "text/plain": [
       "(3319, 29)"
      ]
     },
     "execution_count": 6,
     "metadata": {},
     "output_type": "execute_result"
    }
   ],
   "source": [
    "nyc_hot_spot_df.shape"
   ]
  },
  {
   "cell_type": "code",
   "execution_count": 7,
   "metadata": {
    "execution": {
     "iopub.execute_input": "2020-04-17T14:02:09.734452Z",
     "iopub.status.busy": "2020-04-17T14:02:09.733077Z",
     "iopub.status.idle": "2020-04-17T14:02:09.737796Z",
     "shell.execute_reply": "2020-04-17T14:02:09.736979Z"
    },
    "papermill": {
     "duration": 0.020789,
     "end_time": "2020-04-17T14:02:09.737965",
     "exception": false,
     "start_time": "2020-04-17T14:02:09.717176",
     "status": "completed"
    },
    "tags": []
   },
   "outputs": [
    {
     "data": {
      "text/plain": [
       "Index(['BORO', 'the_geom', 'OBJECTID', 'TYPE', 'PROVIDER', 'NAME', 'LOCATION',\n",
       "       'LAT', 'LON', 'X', 'Y', 'LOCATION_T', 'REMARKS', 'CITY', 'SSID',\n",
       "       'SOURCEID', 'ACTIVATED', 'BOROCODE', 'BORONAME', 'NTACODE', 'NTANAME',\n",
       "       'COUNDIST', 'POSTCODE', 'BOROCD', 'CT2010', 'BOROCT2010', 'BIN', 'BBL',\n",
       "       'DOITT_ID'],\n",
       "      dtype='object')"
      ]
     },
     "execution_count": 7,
     "metadata": {},
     "output_type": "execute_result"
    }
   ],
   "source": [
    "nyc_hot_spot_df.columns"
   ]
  },
  {
   "cell_type": "code",
   "execution_count": 8,
   "metadata": {
    "execution": {
     "iopub.execute_input": "2020-04-17T14:02:09.765122Z",
     "iopub.status.busy": "2020-04-17T14:02:09.764023Z",
     "iopub.status.idle": "2020-04-17T14:02:09.769108Z",
     "shell.execute_reply": "2020-04-17T14:02:09.769882Z"
    },
    "papermill": {
     "duration": 0.02159,
     "end_time": "2020-04-17T14:02:09.770025",
     "exception": false,
     "start_time": "2020-04-17T14:02:09.748435",
     "status": "completed"
    },
    "tags": []
   },
   "outputs": [
    {
     "data": {
      "text/plain": [
       "BORO          3319\n",
       "the_geom      3319\n",
       "OBJECTID      3319\n",
       "TYPE          3319\n",
       "PROVIDER      3319\n",
       "NAME          3089\n",
       "LOCATION      3319\n",
       "LAT           3319\n",
       "LON           3319\n",
       "X             3319\n",
       "Y             3319\n",
       "LOCATION_T    3319\n",
       "REMARKS       2771\n",
       "CITY          3319\n",
       "SSID          3319\n",
       "SOURCEID      2257\n",
       "ACTIVATED     3319\n",
       "BOROCODE      3319\n",
       "BORONAME      3319\n",
       "NTACODE       3319\n",
       "NTANAME       3319\n",
       "COUNDIST      3319\n",
       "POSTCODE      3319\n",
       "BOROCD        3319\n",
       "CT2010        3319\n",
       "BOROCT2010    3319\n",
       "BIN           3319\n",
       "BBL           3319\n",
       "DOITT_ID      3319\n",
       "dtype: int64"
      ]
     },
     "execution_count": 8,
     "metadata": {},
     "output_type": "execute_result"
    }
   ],
   "source": [
    "nyc_hot_spot_df.count()"
   ]
  },
  {
   "cell_type": "code",
   "execution_count": 9,
   "metadata": {
    "execution": {
     "iopub.execute_input": "2020-04-17T14:02:09.799142Z",
     "iopub.status.busy": "2020-04-17T14:02:09.797910Z",
     "iopub.status.idle": "2020-04-17T14:02:09.801619Z",
     "shell.execute_reply": "2020-04-17T14:02:09.802399Z"
    },
    "papermill": {
     "duration": 0.021816,
     "end_time": "2020-04-17T14:02:09.802548",
     "exception": false,
     "start_time": "2020-04-17T14:02:09.780732",
     "status": "completed"
    },
    "tags": []
   },
   "outputs": [
    {
     "data": {
      "text/plain": [
       "BORO             0\n",
       "the_geom         0\n",
       "OBJECTID         0\n",
       "TYPE             0\n",
       "PROVIDER         0\n",
       "NAME           230\n",
       "LOCATION         0\n",
       "LAT              0\n",
       "LON              0\n",
       "X                0\n",
       "Y                0\n",
       "LOCATION_T       0\n",
       "REMARKS        548\n",
       "CITY             0\n",
       "SSID             0\n",
       "SOURCEID      1062\n",
       "ACTIVATED        0\n",
       "BOROCODE         0\n",
       "BORONAME         0\n",
       "NTACODE          0\n",
       "NTANAME          0\n",
       "COUNDIST         0\n",
       "POSTCODE         0\n",
       "BOROCD           0\n",
       "CT2010           0\n",
       "BOROCT2010       0\n",
       "BIN              0\n",
       "BBL              0\n",
       "DOITT_ID         0\n",
       "dtype: int64"
      ]
     },
     "execution_count": 9,
     "metadata": {},
     "output_type": "execute_result"
    }
   ],
   "source": [
    "nyc_hot_spot_df.isnull().sum()"
   ]
  },
  {
   "cell_type": "code",
   "execution_count": 10,
   "metadata": {
    "execution": {
     "iopub.execute_input": "2020-04-17T14:02:09.831192Z",
     "iopub.status.busy": "2020-04-17T14:02:09.829877Z",
     "iopub.status.idle": "2020-04-17T14:02:09.832280Z",
     "shell.execute_reply": "2020-04-17T14:02:09.833055Z"
    },
    "papermill": {
     "duration": 0.019451,
     "end_time": "2020-04-17T14:02:09.833203",
     "exception": false,
     "start_time": "2020-04-17T14:02:09.813752",
     "status": "completed"
    },
    "tags": []
   },
   "outputs": [],
   "source": [
    "#Remove the unused cloumns\n",
    "nyc_hot_spot_df2 = nyc_hot_spot_df.drop(columns=['BORO', 'the_geom', 'OBJECTID', 'NAME', 'LOCATION',\n",
    "        'X', 'Y', 'LOCATION_T', 'REMARKS', 'SSID','SOURCEID', 'NTACODE', 'NTANAME', 'COUNDIST', \n",
    "        'POSTCODE', 'BOROCD', 'CT2010', 'BOROCT2010', 'BIN', 'BBL', 'DOITT_ID'])"
   ]
  },
  {
   "cell_type": "code",
   "execution_count": 11,
   "metadata": {
    "execution": {
     "iopub.execute_input": "2020-04-17T14:02:09.860883Z",
     "iopub.status.busy": "2020-04-17T14:02:09.859596Z",
     "iopub.status.idle": "2020-04-17T14:02:09.861989Z",
     "shell.execute_reply": "2020-04-17T14:02:09.862763Z"
    },
    "papermill": {
     "duration": 0.017995,
     "end_time": "2020-04-17T14:02:09.862907",
     "exception": false,
     "start_time": "2020-04-17T14:02:09.844912",
     "status": "completed"
    },
    "tags": []
   },
   "outputs": [],
   "source": [
    "nyc_hot_spot_df2.columns = ['type', 'provider','latitude', 'longitude', 'city', 'activated', 'borough_code','borough' ]"
   ]
  },
  {
   "cell_type": "code",
   "execution_count": 12,
   "metadata": {
    "execution": {
     "iopub.execute_input": "2020-04-17T14:02:09.911350Z",
     "iopub.status.busy": "2020-04-17T14:02:09.908854Z",
     "iopub.status.idle": "2020-04-17T14:02:09.916325Z",
     "shell.execute_reply": "2020-04-17T14:02:09.914940Z"
    },
    "papermill": {
     "duration": 0.040013,
     "end_time": "2020-04-17T14:02:09.916541",
     "exception": false,
     "start_time": "2020-04-17T14:02:09.876528",
     "status": "completed"
    },
    "tags": []
   },
   "outputs": [
    {
     "data": {
      "text/html": [
       "<div>\n",
       "<style scoped>\n",
       "    .dataframe tbody tr th:only-of-type {\n",
       "        vertical-align: middle;\n",
       "    }\n",
       "\n",
       "    .dataframe tbody tr th {\n",
       "        vertical-align: top;\n",
       "    }\n",
       "\n",
       "    .dataframe thead th {\n",
       "        text-align: right;\n",
       "    }\n",
       "</style>\n",
       "<table border=\"1\" class=\"dataframe\">\n",
       "  <thead>\n",
       "    <tr style=\"text-align: right;\">\n",
       "      <th></th>\n",
       "      <th>type</th>\n",
       "      <th>provider</th>\n",
       "      <th>latitude</th>\n",
       "      <th>longitude</th>\n",
       "      <th>city</th>\n",
       "      <th>activated</th>\n",
       "      <th>borough_code</th>\n",
       "      <th>borough</th>\n",
       "    </tr>\n",
       "  </thead>\n",
       "  <tbody>\n",
       "    <tr>\n",
       "      <th>0</th>\n",
       "      <td>Free</td>\n",
       "      <td>LinkNYC - Citybridge</td>\n",
       "      <td>40.684061</td>\n",
       "      <td>-73.870537</td>\n",
       "      <td>Brooklyn</td>\n",
       "      <td>11/21/2017 12:00:00 AM +0000</td>\n",
       "      <td>3</td>\n",
       "      <td>Brooklyn</td>\n",
       "    </tr>\n",
       "    <tr>\n",
       "      <th>1</th>\n",
       "      <td>Free</td>\n",
       "      <td>LinkNYC - Citybridge</td>\n",
       "      <td>40.684625</td>\n",
       "      <td>-73.868975</td>\n",
       "      <td>Brooklyn</td>\n",
       "      <td>11/21/2017 12:00:00 AM +0000</td>\n",
       "      <td>3</td>\n",
       "      <td>Brooklyn</td>\n",
       "    </tr>\n",
       "    <tr>\n",
       "      <th>2</th>\n",
       "      <td>Free</td>\n",
       "      <td>LinkNYC - Citybridge</td>\n",
       "      <td>40.684702</td>\n",
       "      <td>-73.868309</td>\n",
       "      <td>Brooklyn</td>\n",
       "      <td>11/21/2017 12:00:00 AM +0000</td>\n",
       "      <td>3</td>\n",
       "      <td>Brooklyn</td>\n",
       "    </tr>\n",
       "    <tr>\n",
       "      <th>3</th>\n",
       "      <td>Free</td>\n",
       "      <td>LinkNYC - Citybridge</td>\n",
       "      <td>40.685131</td>\n",
       "      <td>-73.866777</td>\n",
       "      <td>Brooklyn</td>\n",
       "      <td>12/20/2017 12:00:00 AM +0000</td>\n",
       "      <td>3</td>\n",
       "      <td>Brooklyn</td>\n",
       "    </tr>\n",
       "    <tr>\n",
       "      <th>4</th>\n",
       "      <td>Free</td>\n",
       "      <td>LinkNYC - Citybridge</td>\n",
       "      <td>40.676475</td>\n",
       "      <td>-73.897167</td>\n",
       "      <td>Brooklyn</td>\n",
       "      <td>02/06/2018 12:00:00 AM +0000</td>\n",
       "      <td>3</td>\n",
       "      <td>Brooklyn</td>\n",
       "    </tr>\n",
       "  </tbody>\n",
       "</table>\n",
       "</div>"
      ],
      "text/plain": [
       "   type              provider   latitude  longitude      city  \\\n",
       "0  Free  LinkNYC - Citybridge  40.684061 -73.870537  Brooklyn   \n",
       "1  Free  LinkNYC - Citybridge  40.684625 -73.868975  Brooklyn   \n",
       "2  Free  LinkNYC - Citybridge  40.684702 -73.868309  Brooklyn   \n",
       "3  Free  LinkNYC - Citybridge  40.685131 -73.866777  Brooklyn   \n",
       "4  Free  LinkNYC - Citybridge  40.676475 -73.897167  Brooklyn   \n",
       "\n",
       "                      activated  borough_code   borough  \n",
       "0  11/21/2017 12:00:00 AM +0000             3  Brooklyn  \n",
       "1  11/21/2017 12:00:00 AM +0000             3  Brooklyn  \n",
       "2  11/21/2017 12:00:00 AM +0000             3  Brooklyn  \n",
       "3  12/20/2017 12:00:00 AM +0000             3  Brooklyn  \n",
       "4  02/06/2018 12:00:00 AM +0000             3  Brooklyn  "
      ]
     },
     "execution_count": 12,
     "metadata": {},
     "output_type": "execute_result"
    }
   ],
   "source": [
    "nyc_hot_spot_df2.head()"
   ]
  },
  {
   "cell_type": "code",
   "execution_count": 13,
   "metadata": {
    "execution": {
     "iopub.execute_input": "2020-04-17T14:02:09.957560Z",
     "iopub.status.busy": "2020-04-17T14:02:09.956165Z",
     "iopub.status.idle": "2020-04-17T14:02:09.958661Z",
     "shell.execute_reply": "2020-04-17T14:02:09.959453Z"
    },
    "papermill": {
     "duration": 0.026591,
     "end_time": "2020-04-17T14:02:09.959609",
     "exception": false,
     "start_time": "2020-04-17T14:02:09.933018",
     "status": "completed"
    },
    "tags": []
   },
   "outputs": [],
   "source": [
    "nyc_hot_spot_df2.set_index('type', inplace=True)"
   ]
  },
  {
   "cell_type": "code",
   "execution_count": 14,
   "metadata": {
    "execution": {
     "iopub.execute_input": "2020-04-17T14:02:09.992409Z",
     "iopub.status.busy": "2020-04-17T14:02:09.990870Z",
     "iopub.status.idle": "2020-04-17T14:02:09.995734Z",
     "shell.execute_reply": "2020-04-17T14:02:09.994905Z"
    },
    "papermill": {
     "duration": 0.025251,
     "end_time": "2020-04-17T14:02:09.995864",
     "exception": false,
     "start_time": "2020-04-17T14:02:09.970613",
     "status": "completed"
    },
    "tags": []
   },
   "outputs": [
    {
     "data": {
      "text/html": [
       "<div>\n",
       "<style scoped>\n",
       "    .dataframe tbody tr th:only-of-type {\n",
       "        vertical-align: middle;\n",
       "    }\n",
       "\n",
       "    .dataframe tbody tr th {\n",
       "        vertical-align: top;\n",
       "    }\n",
       "\n",
       "    .dataframe thead th {\n",
       "        text-align: right;\n",
       "    }\n",
       "</style>\n",
       "<table border=\"1\" class=\"dataframe\">\n",
       "  <thead>\n",
       "    <tr style=\"text-align: right;\">\n",
       "      <th></th>\n",
       "      <th>provider</th>\n",
       "      <th>latitude</th>\n",
       "      <th>longitude</th>\n",
       "      <th>city</th>\n",
       "      <th>activated</th>\n",
       "      <th>borough_code</th>\n",
       "      <th>borough</th>\n",
       "    </tr>\n",
       "    <tr>\n",
       "      <th>type</th>\n",
       "      <th></th>\n",
       "      <th></th>\n",
       "      <th></th>\n",
       "      <th></th>\n",
       "      <th></th>\n",
       "      <th></th>\n",
       "      <th></th>\n",
       "    </tr>\n",
       "  </thead>\n",
       "  <tbody>\n",
       "    <tr>\n",
       "      <th>Free</th>\n",
       "      <td>LinkNYC - Citybridge</td>\n",
       "      <td>40.684061</td>\n",
       "      <td>-73.870537</td>\n",
       "      <td>Brooklyn</td>\n",
       "      <td>11/21/2017 12:00:00 AM +0000</td>\n",
       "      <td>3</td>\n",
       "      <td>Brooklyn</td>\n",
       "    </tr>\n",
       "    <tr>\n",
       "      <th>Free</th>\n",
       "      <td>LinkNYC - Citybridge</td>\n",
       "      <td>40.684625</td>\n",
       "      <td>-73.868975</td>\n",
       "      <td>Brooklyn</td>\n",
       "      <td>11/21/2017 12:00:00 AM +0000</td>\n",
       "      <td>3</td>\n",
       "      <td>Brooklyn</td>\n",
       "    </tr>\n",
       "    <tr>\n",
       "      <th>Free</th>\n",
       "      <td>LinkNYC - Citybridge</td>\n",
       "      <td>40.684702</td>\n",
       "      <td>-73.868309</td>\n",
       "      <td>Brooklyn</td>\n",
       "      <td>11/21/2017 12:00:00 AM +0000</td>\n",
       "      <td>3</td>\n",
       "      <td>Brooklyn</td>\n",
       "    </tr>\n",
       "    <tr>\n",
       "      <th>Free</th>\n",
       "      <td>LinkNYC - Citybridge</td>\n",
       "      <td>40.685131</td>\n",
       "      <td>-73.866777</td>\n",
       "      <td>Brooklyn</td>\n",
       "      <td>12/20/2017 12:00:00 AM +0000</td>\n",
       "      <td>3</td>\n",
       "      <td>Brooklyn</td>\n",
       "    </tr>\n",
       "    <tr>\n",
       "      <th>Free</th>\n",
       "      <td>LinkNYC - Citybridge</td>\n",
       "      <td>40.676475</td>\n",
       "      <td>-73.897167</td>\n",
       "      <td>Brooklyn</td>\n",
       "      <td>02/06/2018 12:00:00 AM +0000</td>\n",
       "      <td>3</td>\n",
       "      <td>Brooklyn</td>\n",
       "    </tr>\n",
       "  </tbody>\n",
       "</table>\n",
       "</div>"
      ],
      "text/plain": [
       "                  provider   latitude  longitude      city  \\\n",
       "type                                                         \n",
       "Free  LinkNYC - Citybridge  40.684061 -73.870537  Brooklyn   \n",
       "Free  LinkNYC - Citybridge  40.684625 -73.868975  Brooklyn   \n",
       "Free  LinkNYC - Citybridge  40.684702 -73.868309  Brooklyn   \n",
       "Free  LinkNYC - Citybridge  40.685131 -73.866777  Brooklyn   \n",
       "Free  LinkNYC - Citybridge  40.676475 -73.897167  Brooklyn   \n",
       "\n",
       "                         activated  borough_code   borough  \n",
       "type                                                        \n",
       "Free  11/21/2017 12:00:00 AM +0000             3  Brooklyn  \n",
       "Free  11/21/2017 12:00:00 AM +0000             3  Brooklyn  \n",
       "Free  11/21/2017 12:00:00 AM +0000             3  Brooklyn  \n",
       "Free  12/20/2017 12:00:00 AM +0000             3  Brooklyn  \n",
       "Free  02/06/2018 12:00:00 AM +0000             3  Brooklyn  "
      ]
     },
     "execution_count": 14,
     "metadata": {},
     "output_type": "execute_result"
    }
   ],
   "source": [
    "nyc_hot_spot_df2.head()"
   ]
  },
  {
   "cell_type": "code",
   "execution_count": 15,
   "metadata": {
    "execution": {
     "iopub.execute_input": "2020-04-17T14:02:10.028050Z",
     "iopub.status.busy": "2020-04-17T14:02:10.027093Z",
     "iopub.status.idle": "2020-04-17T14:02:10.040529Z",
     "shell.execute_reply": "2020-04-17T14:02:10.041417Z"
    },
    "papermill": {
     "duration": 0.03398,
     "end_time": "2020-04-17T14:02:10.041576",
     "exception": false,
     "start_time": "2020-04-17T14:02:10.007596",
     "status": "completed"
    },
    "tags": []
   },
   "outputs": [
    {
     "data": {
      "text/html": [
       "<div>\n",
       "<style scoped>\n",
       "    .dataframe tbody tr th:only-of-type {\n",
       "        vertical-align: middle;\n",
       "    }\n",
       "\n",
       "    .dataframe tbody tr th {\n",
       "        vertical-align: top;\n",
       "    }\n",
       "\n",
       "    .dataframe thead th {\n",
       "        text-align: right;\n",
       "    }\n",
       "</style>\n",
       "<table border=\"1\" class=\"dataframe\">\n",
       "  <thead>\n",
       "    <tr style=\"text-align: right;\">\n",
       "      <th></th>\n",
       "      <th>provider</th>\n",
       "      <th>latitude</th>\n",
       "      <th>longitude</th>\n",
       "      <th>city</th>\n",
       "      <th>activated</th>\n",
       "      <th>borough_code</th>\n",
       "      <th>borough</th>\n",
       "    </tr>\n",
       "    <tr>\n",
       "      <th>borough</th>\n",
       "      <th></th>\n",
       "      <th></th>\n",
       "      <th></th>\n",
       "      <th></th>\n",
       "      <th></th>\n",
       "      <th></th>\n",
       "      <th></th>\n",
       "    </tr>\n",
       "  </thead>\n",
       "  <tbody>\n",
       "    <tr>\n",
       "      <th>Bronx</th>\n",
       "      <td>5</td>\n",
       "      <td>306</td>\n",
       "      <td>306</td>\n",
       "      <td>1</td>\n",
       "      <td>58</td>\n",
       "      <td>1</td>\n",
       "      <td>1</td>\n",
       "    </tr>\n",
       "    <tr>\n",
       "      <th>Brooklyn</th>\n",
       "      <td>9</td>\n",
       "      <td>618</td>\n",
       "      <td>618</td>\n",
       "      <td>1</td>\n",
       "      <td>102</td>\n",
       "      <td>1</td>\n",
       "      <td>1</td>\n",
       "    </tr>\n",
       "    <tr>\n",
       "      <th>Manhattan</th>\n",
       "      <td>10</td>\n",
       "      <td>1626</td>\n",
       "      <td>1626</td>\n",
       "      <td>2</td>\n",
       "      <td>293</td>\n",
       "      <td>1</td>\n",
       "      <td>1</td>\n",
       "    </tr>\n",
       "    <tr>\n",
       "      <th>Queens</th>\n",
       "      <td>6</td>\n",
       "      <td>502</td>\n",
       "      <td>502</td>\n",
       "      <td>41</td>\n",
       "      <td>100</td>\n",
       "      <td>1</td>\n",
       "      <td>1</td>\n",
       "    </tr>\n",
       "    <tr>\n",
       "      <th>Staten Island</th>\n",
       "      <td>4</td>\n",
       "      <td>97</td>\n",
       "      <td>97</td>\n",
       "      <td>1</td>\n",
       "      <td>8</td>\n",
       "      <td>1</td>\n",
       "      <td>1</td>\n",
       "    </tr>\n",
       "  </tbody>\n",
       "</table>\n",
       "</div>"
      ],
      "text/plain": [
       "               provider  latitude  longitude  city  activated  borough_code  \\\n",
       "borough                                                                       \n",
       "Bronx                 5       306        306     1         58             1   \n",
       "Brooklyn              9       618        618     1        102             1   \n",
       "Manhattan            10      1626       1626     2        293             1   \n",
       "Queens                6       502        502    41        100             1   \n",
       "Staten Island         4        97         97     1          8             1   \n",
       "\n",
       "               borough  \n",
       "borough                 \n",
       "Bronx                1  \n",
       "Brooklyn             1  \n",
       "Manhattan            1  \n",
       "Queens               1  \n",
       "Staten Island        1  "
      ]
     },
     "execution_count": 15,
     "metadata": {},
     "output_type": "execute_result"
    }
   ],
   "source": [
    "nyc_hot_spot_df2.groupby('borough').nunique()"
   ]
  },
  {
   "cell_type": "code",
   "execution_count": null,
   "metadata": {
    "papermill": {
     "duration": 0.012555,
     "end_time": "2020-04-17T14:02:10.067072",
     "exception": false,
     "start_time": "2020-04-17T14:02:10.054517",
     "status": "completed"
    },
    "tags": []
   },
   "outputs": [],
   "source": []
  },
  {
   "cell_type": "code",
   "execution_count": 16,
   "metadata": {
    "execution": {
     "iopub.execute_input": "2020-04-17T14:02:10.098792Z",
     "iopub.status.busy": "2020-04-17T14:02:10.097444Z",
     "iopub.status.idle": "2020-04-17T14:02:10.101833Z",
     "shell.execute_reply": "2020-04-17T14:02:10.101012Z"
    },
    "papermill": {
     "duration": 0.022512,
     "end_time": "2020-04-17T14:02:10.102020",
     "exception": false,
     "start_time": "2020-04-17T14:02:10.079508",
     "status": "completed"
    },
    "tags": []
   },
   "outputs": [
    {
     "data": {
      "text/plain": [
       "borough\n",
       "Bronx             316\n",
       "Brooklyn          700\n",
       "Manhattan        1672\n",
       "Queens            531\n",
       "Staten Island     100\n",
       "Name: borough, dtype: int64"
      ]
     },
     "execution_count": 16,
     "metadata": {},
     "output_type": "execute_result"
    }
   ],
   "source": [
    "borough_count = nyc_hot_spot_df2.groupby('borough').borough.count()\n",
    "borough_count"
   ]
  },
  {
   "cell_type": "code",
   "execution_count": 17,
   "metadata": {
    "execution": {
     "iopub.execute_input": "2020-04-17T14:02:10.134531Z",
     "iopub.status.busy": "2020-04-17T14:02:10.133284Z",
     "iopub.status.idle": "2020-04-17T14:02:10.270201Z",
     "shell.execute_reply": "2020-04-17T14:02:10.270975Z"
    },
    "papermill": {
     "duration": 0.156933,
     "end_time": "2020-04-17T14:02:10.271126",
     "exception": false,
     "start_time": "2020-04-17T14:02:10.114193",
     "status": "completed"
    },
    "tags": []
   },
   "outputs": [
    {
     "data": {
      "image/png": "[encoded data removed]",
      "text/plain": [
       "<Figure size 432x288 with 1 Axes>"
      ]
     },
     "metadata": {
      "needs_background": "light"
     },
     "output_type": "display_data"
    }
   ],
   "source": [
    "#Total number of hotspot in the New York City\n",
    "plt_nyc_hot_spotdf2 = borough_count.plot.bar(y='total', rot=30)"
   ]
  },
  {
   "cell_type": "code",
   "execution_count": 18,
   "metadata": {
    "execution": {
     "iopub.execute_input": "2020-04-17T14:02:10.302851Z",
     "iopub.status.busy": "2020-04-17T14:02:10.301548Z",
     "iopub.status.idle": "2020-04-17T14:02:10.305791Z",
     "shell.execute_reply": "2020-04-17T14:02:10.306655Z"
    },
    "papermill": {
     "duration": 0.022455,
     "end_time": "2020-04-17T14:02:10.306807",
     "exception": false,
     "start_time": "2020-04-17T14:02:10.284352",
     "status": "completed"
    },
    "tags": []
   },
   "outputs": [
    {
     "data": {
      "text/plain": [
       "provider        0\n",
       "latitude        0\n",
       "longitude       0\n",
       "city            0\n",
       "activated       0\n",
       "borough_code    0\n",
       "borough         0\n",
       "dtype: int64"
      ]
     },
     "execution_count": 18,
     "metadata": {},
     "output_type": "execute_result"
    }
   ],
   "source": [
    "#no missing data, no need to fillna\n",
    "nyc_hot_spot_df2.isnull().sum()"
   ]
  },
  {
   "cell_type": "code",
   "execution_count": 19,
   "metadata": {
    "execution": {
     "iopub.execute_input": "2020-04-17T14:02:10.337838Z",
     "iopub.status.busy": "2020-04-17T14:02:10.336147Z",
     "iopub.status.idle": "2020-04-17T14:02:10.360263Z",
     "shell.execute_reply": "2020-04-17T14:02:10.361054Z"
    },
    "papermill": {
     "duration": 0.041567,
     "end_time": "2020-04-17T14:02:10.361204",
     "exception": false,
     "start_time": "2020-04-17T14:02:10.319637",
     "status": "completed"
    },
    "tags": []
   },
   "outputs": [],
   "source": [
    "nyc_hot_spot_df2.to_csv('/Users/nli/dev/airflow_home/data/nyc_hot_spot_df.csv')"
   ]
  },
  {
   "cell_type": "code",
   "execution_count": null,
   "metadata": {
    "papermill": {
     "duration": 0.012654,
     "end_time": "2020-04-17T14:02:10.386880",
     "exception": false,
     "start_time": "2020-04-17T14:02:10.374226",
     "status": "completed"
    },
    "tags": []
   },
   "outputs": [],
   "source": []
  },
  {
   "cell_type": "code",
   "execution_count": null,
   "metadata": {
    "papermill": {
     "duration": 0.013685,
     "end_time": "2020-04-17T14:02:10.414236",
     "exception": false,
     "start_time": "2020-04-17T14:02:10.400551",
     "status": "completed"
    },
    "tags": []
   },
   "outputs": [],
   "source": []
  }
 ],
 "metadata": {
  "kernelspec": {
   "display_name": "Python 3",
   "language": "python",
   "name": "python3"
  },
  "language_info": {
   "codemirror_mode": {
    "name": "ipython",
    "version": 3
   },
   "file_extension": ".py",
   "mimetype": "text/x-python",
   "name": "python",
   "nbconvert_exporter": "python",
   "pygments_lexer": "ipython3",
   "version": "3.7.7"
  },
  "papermill": {
   "duration": 2.630561,
   "end_time": "2020-04-17T14:02:10.534795",
   "environment_variables": {},
   "exception": null,
   "input_path": "/Users/nli/dev/airflow_home/nyc_hot_spot.ipynb",
   "output_path": "/Users/nli/dev/airflow_home/nyc_hot_spot_output.ipynb",
   "parameters": {
    "file_name": "/Users/nli/dev/airflow_home/data/nyc_hot_spot2.csv"
   },
   "start_time": "2020-04-17T14:02:07.904234",
   "version": "2.1.0"
  }
 },
 "nbformat": 4,
 "nbformat_minor": 2
}